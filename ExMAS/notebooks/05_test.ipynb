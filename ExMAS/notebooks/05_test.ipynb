{
 "cells": [
  {
   "cell_type": "markdown",
   "metadata": {},
   "source": [
    "## ExMAS\n",
    "> Exact Matching of Attractive Shared rides (ExMAS) for system-wide strategic evaluations\n",
    "> \n",
    "> Kucharski R., Cats O. ,_Transportation Research Part: B_, 2020\n",
    "\n",
    "---\n",
    "#### Parallel experiments\n",
    "\n",
    "Explore the search space of hyperparameters with parallel multiple runs of ExMAS\n",
    "\n",
    "Merge the results into single DataFrame and visualize"
   ]
  },
  {
   "cell_type": "code",
   "execution_count": null,
   "metadata": {},
   "outputs": [],
   "source": [
    "import os\n",
    "cwd = os.getcwd()"
   ]
  },
  {
   "cell_type": "code",
   "execution_count": null,
   "metadata": {},
   "outputs": [],
   "source": [
    "os.chdir(os.path.join(cwd,'../..'))\n",
    "import ExMAS.main\n",
    "import ExMAS.utils"
   ]
  },
  {
   "cell_type": "code",
   "execution_count": null,
   "metadata": {},
   "outputs": [],
   "source": [
    "from ExMAS.utils import inData as inData"
   ]
  },
  {
   "cell_type": "code",
   "execution_count": null,
   "metadata": {},
   "outputs": [],
   "source": [
    "from ExMAS.experiments import experiment\n",
    "from dotmap import DotMap"
   ]
  },
  {
   "cell_type": "markdown",
   "metadata": {},
   "source": [
    "### create the search space"
   ]
  },
  {
   "cell_type": "code",
   "execution_count": null,
   "metadata": {},
   "outputs": [],
   "source": [
    "def my_search_space():\n",
    "    # sspace to explore\n",
    "    full_space = DotMap()\n",
    "    full_space.nP = [100, 200, 300, 400]\n",
    "    full_space.shared_discount = [0.2, 0.25, 0.3]\n",
    "    full_space.horizon = [60, 300,  1200, -1]\n",
    "    return full_space"
   ]
  },
  {
   "cell_type": "markdown",
   "metadata": {},
   "source": [
    "### run"
   ]
  },
  {
   "cell_type": "code",
   "execution_count": null,
   "metadata": {},
   "outputs": [],
   "source": [
    "help(experiment)"
   ]
  },
  {
   "cell_type": "code",
   "execution_count": null,
   "metadata": {},
   "outputs": [],
   "source": [
    "experiment(space=my_search_space(), config = 'D:\\TIL6022\\A7\\TIL6010-LabAssignments\\ExMAS\\ExMAS/data/configs/default.json', workers = 4) # explores the search space"
   ]
  },
  {
   "cell_type": "markdown",
   "metadata": {},
   "source": [
    "### process the results:"
   ]
  },
  {
   "cell_type": "code",
   "execution_count": null,
   "metadata": {},
   "outputs": [],
   "source": [
    "results = ExMAS.utils.merge_csvs(None, 'ExMAS/data/results/*.csv\"', to_numeric = True)"
   ]
  },
  {
   "cell_type": "code",
   "execution_count": null,
   "metadata": {},
   "outputs": [],
   "source": [
    "results = ExMAS.utils.make_KPIs(results, params = ExMAS.utils.get_config('ExMAS/data/configs/default.json'))"
   ]
  },
  {
   "cell_type": "code",
   "execution_count": null,
   "metadata": {},
   "outputs": [],
   "source": [
    "import matplotlib.pyplot as plt\n",
    "plt.rcParams['figure.figsize'] = [4, 4]\n",
    "plt.rcParams[\"font.family\"] = \"Helvetica\"\n",
    "plt.style.use('ggplot')"
   ]
  },
  {
   "cell_type": "code",
   "execution_count": null,
   "metadata": {},
   "outputs": [],
   "source": [
    "tp = results[(results.horizon == -1) \n",
    "       & (results.shared_discount == 0.3)\n",
    "       & (results.nP >0)]\n",
    "_ = ExMAS.utils.plot_paper_multi(tp, x = '$Q$', \n",
    "                 ys = ['$\\Delta T_r$', '$\\Delta T_q$', '$\\Delta U_r$'], figname = '1_1.svg', y_label = 'rel. diff.', path = '')"
   ]
  },
  {
   "cell_type": "code",
   "execution_count": null,
   "metadata": {},
   "outputs": [],
   "source": [
    "tp = results[(results.horizon == -1) \n",
    "       & (results.nP ==300)]\n",
    "_ = ExMAS.utils.plot_paper_multi(tp, x = '$\\lambda$', \n",
    "                 ys = ['$\\Delta T_r$', '$\\Delta T_q$', '$\\Delta U_r$'], figname = '1_1.svg', y_label = 'rel. diff.', path = '')"
   ]
  },
  {
   "cell_type": "code",
   "execution_count": null,
   "metadata": {},
   "outputs": [],
   "source": [
    "tp = results[(results.shared_discount == 0.3)\n",
    "       & (results.nP ==300)]\n",
    "_ = ExMAS.utils.plot_paper_multi(tp, x = '$T$', \n",
    "                 ys = ['$\\Delta T_r$', '$\\Delta T_q$', '$\\Delta U_r$'], figname = '1_1.svg', y_label = 'rel. diff.', path = '')"
   ]
  },
  {
   "cell_type": "markdown",
   "metadata": {},
   "source": [
    "---\n",
    "(c) Rafał Kucharski, Delft, 2020"
   ]
  }
 ],
 "metadata": {
  "kernelspec": {
   "display_name": "Python 3.9.13 ('TIL6022')",
   "language": "python",
   "name": "python3"
  },
  "language_info": {
   "codemirror_mode": {
    "name": "ipython",
    "version": 3
   },
   "file_extension": ".py",
   "mimetype": "text/x-python",
   "name": "python",
   "nbconvert_exporter": "python",
   "pygments_lexer": "ipython3",
   "version": "3.9.13"
  },
  "vscode": {
   "interpreter": {
    "hash": "2d9c2ee73b1d2668f5711e1e9a7275afe4bd997c69edac67a32ba19cfc372caa"
   }
  }
 },
 "nbformat": 4,
 "nbformat_minor": 4
}
