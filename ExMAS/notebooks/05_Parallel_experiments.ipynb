{
 "cells": [
  {
   "cell_type": "markdown",
   "metadata": {},
   "source": [
    "## ExMAS\n",
    "> Exact Matching of Attractive Shared rides (ExMAS) for system-wide strategic evaluations\n",
    "> \n",
    "> Kucharski R., Cats O. ,_Transportation Research Part: B_, 2020\n",
    "\n",
    "---\n",
    "#### Parallel experiments\n",
    "\n",
    "Explore the search space of hyperparameters with parallel multiple runs of ExMAS\n",
    "\n",
    "Merge the results into single DataFrame and visualize"
   ]
  },
  {
   "cell_type": "code",
   "execution_count": 1,
   "metadata": {},
   "outputs": [],
   "source": [
    "import os\n",
    "cwd = os.getcwd()"
   ]
  },
  {
   "cell_type": "code",
   "execution_count": 2,
   "metadata": {},
   "outputs": [],
   "source": [
    "os.chdir(os.path.join(cwd,'../..'))\n",
    "import ExMAS.main\n",
    "import ExMAS.utils"
   ]
  },
  {
   "cell_type": "code",
   "execution_count": 3,
   "metadata": {},
   "outputs": [],
   "source": [
    "from ExMAS.utils import inData as inData"
   ]
  },
  {
   "cell_type": "code",
   "execution_count": 4,
   "metadata": {},
   "outputs": [],
   "source": [
    "from ExMAS.experiments import experiment\n",
    "from dotmap import DotMap"
   ]
  },
  {
   "cell_type": "markdown",
   "metadata": {},
   "source": [
    "### create the search space"
   ]
  },
  {
   "cell_type": "code",
   "execution_count": 5,
   "metadata": {},
   "outputs": [],
   "source": [
    "def my_search_space():\n",
    "    # sspace to explore\n",
    "    full_space = DotMap()\n",
    "    full_space.nP = [100, 200, 300, 400]\n",
    "    full_space.shared_discount = [0.2, 0.25, 0.3]\n",
    "    full_space.horizon = [60, 300,  1200, -1]\n",
    "    return full_space"
   ]
  },
  {
   "cell_type": "markdown",
   "metadata": {},
   "source": [
    "### run"
   ]
  },
  {
   "cell_type": "code",
   "execution_count": 6,
   "metadata": {},
   "outputs": [
    {
     "name": "stdout",
     "output_type": "stream",
     "text": [
      "Help on function experiment in module ExMAS.experiments:\n",
      "\n",
      "experiment(space=None, config='ExMAS/data/configs/default.json', workers=-1, replications=1, func=<function exploit_search_space at 0x0000023B37C930D0>, logger_level='CRITICAL')\n",
      "    Explores the search space `space` starting from base configuration from `config` using `workers` parallel threads`\n",
      "    :param space:\n",
      "    :param config:\n",
      "    :param workers:\n",
      "    :param replications:\n",
      "    :return: set of csvs in 'data/results`\n",
      "\n"
     ]
    }
   ],
   "source": [
    "help(experiment)"
   ]
  },
  {
   "cell_type": "code",
   "execution_count": 6,
   "metadata": {},
   "outputs": [
    {
     "name": "stdout",
     "output_type": "stream",
     "text": [
      "Search space to explore of dimensions [4, 3, 4] and total size of 48\n"
     ]
    }
   ],
   "source": [
    "experiment(space=my_search_space(), config = 'D:\\TIL6022\\A7\\TIL6010-LabAssignments\\ExMAS\\ExMAS/data/configs/default.json', workers = 4) # explores the search space"
   ]
  },
  {
   "cell_type": "markdown",
   "metadata": {},
   "source": [
    "### process the results:"
   ]
  },
  {
   "cell_type": "code",
   "execution_count": 7,
   "metadata": {},
   "outputs": [
    {
     "name": "stdout",
     "output_type": "stream",
     "text": [
      "[]\n",
      "[]\n"
     ]
    },
    {
     "ename": "ValueError",
     "evalue": "No objects to concatenate",
     "output_type": "error",
     "traceback": [
      "\u001b[1;31m---------------------------------------------------------------------------\u001b[0m",
      "\u001b[1;31mValueError\u001b[0m                                Traceback (most recent call last)",
      "\u001b[1;32md:\\TIL6022\\A7\\TIL6010-LabAssignments\\ExMAS\\ExMAS\\notebooks\\05_Parallel_experiments.ipynb Cell 12\u001b[0m in \u001b[0;36m<cell line: 1>\u001b[1;34m()\u001b[0m\n\u001b[1;32m----> <a href='vscode-notebook-cell:/d%3A/TIL6022/A7/TIL6010-LabAssignments/ExMAS/ExMAS/notebooks/05_Parallel_experiments.ipynb#X14sZmlsZQ%3D%3D?line=0'>1</a>\u001b[0m results \u001b[39m=\u001b[39m ExMAS\u001b[39m.\u001b[39;49mutils\u001b[39m.\u001b[39;49mmerge_csvs(\u001b[39mNone\u001b[39;49;00m, \u001b[39m'\u001b[39;49m\u001b[39mExMAS/data/results/*.csv\u001b[39;49m\u001b[39m\"\u001b[39;49m\u001b[39m'\u001b[39;49m, to_numeric \u001b[39m=\u001b[39;49m \u001b[39mTrue\u001b[39;49;00m)\n",
      "File \u001b[1;32md:\\TIL6022\\A7\\TIL6010-LabAssignments\\ExMAS\\ExMAS\\utils.py:223\u001b[0m, in \u001b[0;36mmerge_csvs\u001b[1;34m(params, path, to_numeric, read_columns_from_filename)\u001b[0m\n\u001b[0;32m    221\u001b[0m     l\u001b[39m.\u001b[39mappend(df)\n\u001b[0;32m    222\u001b[0m \u001b[39mprint\u001b[39m(l)\n\u001b[1;32m--> 223\u001b[0m res \u001b[39m=\u001b[39m pd\u001b[39m.\u001b[39;49mconcat(l)\n\u001b[0;32m    224\u001b[0m \u001b[39mif\u001b[39;00m to_numeric:\n\u001b[0;32m    225\u001b[0m     res \u001b[39m=\u001b[39m res\u001b[39m.\u001b[39mapply(pd\u001b[39m.\u001b[39mto_numeric, errors\u001b[39m=\u001b[39m\u001b[39m'\u001b[39m\u001b[39mcoerce\u001b[39m\u001b[39m'\u001b[39m)\n",
      "File \u001b[1;32mc:\\Users\\kairu\\anaconda3\\envs\\TIL6022\\lib\\site-packages\\pandas\\util\\_decorators.py:311\u001b[0m, in \u001b[0;36mdeprecate_nonkeyword_arguments.<locals>.decorate.<locals>.wrapper\u001b[1;34m(*args, **kwargs)\u001b[0m\n\u001b[0;32m    305\u001b[0m \u001b[39mif\u001b[39;00m \u001b[39mlen\u001b[39m(args) \u001b[39m>\u001b[39m num_allow_args:\n\u001b[0;32m    306\u001b[0m     warnings\u001b[39m.\u001b[39mwarn(\n\u001b[0;32m    307\u001b[0m         msg\u001b[39m.\u001b[39mformat(arguments\u001b[39m=\u001b[39marguments),\n\u001b[0;32m    308\u001b[0m         \u001b[39mFutureWarning\u001b[39;00m,\n\u001b[0;32m    309\u001b[0m         stacklevel\u001b[39m=\u001b[39mstacklevel,\n\u001b[0;32m    310\u001b[0m     )\n\u001b[1;32m--> 311\u001b[0m \u001b[39mreturn\u001b[39;00m func(\u001b[39m*\u001b[39margs, \u001b[39m*\u001b[39m\u001b[39m*\u001b[39mkwargs)\n",
      "File \u001b[1;32mc:\\Users\\kairu\\anaconda3\\envs\\TIL6022\\lib\\site-packages\\pandas\\core\\reshape\\concat.py:347\u001b[0m, in \u001b[0;36mconcat\u001b[1;34m(objs, axis, join, ignore_index, keys, levels, names, verify_integrity, sort, copy)\u001b[0m\n\u001b[0;32m    143\u001b[0m \u001b[39m@deprecate_nonkeyword_arguments\u001b[39m(version\u001b[39m=\u001b[39m\u001b[39mNone\u001b[39;00m, allowed_args\u001b[39m=\u001b[39m[\u001b[39m\"\u001b[39m\u001b[39mobjs\u001b[39m\u001b[39m\"\u001b[39m])\n\u001b[0;32m    144\u001b[0m \u001b[39mdef\u001b[39;00m \u001b[39mconcat\u001b[39m(\n\u001b[0;32m    145\u001b[0m     objs: Iterable[NDFrame] \u001b[39m|\u001b[39m Mapping[Hashable, NDFrame],\n\u001b[1;32m   (...)\u001b[0m\n\u001b[0;32m    154\u001b[0m     copy: \u001b[39mbool\u001b[39m \u001b[39m=\u001b[39m \u001b[39mTrue\u001b[39;00m,\n\u001b[0;32m    155\u001b[0m ) \u001b[39m-\u001b[39m\u001b[39m>\u001b[39m DataFrame \u001b[39m|\u001b[39m Series:\n\u001b[0;32m    156\u001b[0m     \u001b[39m\"\"\"\u001b[39;00m\n\u001b[0;32m    157\u001b[0m \u001b[39m    Concatenate pandas objects along a particular axis with optional set logic\u001b[39;00m\n\u001b[0;32m    158\u001b[0m \u001b[39m    along the other axes.\u001b[39;00m\n\u001b[1;32m   (...)\u001b[0m\n\u001b[0;32m    345\u001b[0m \u001b[39m    ValueError: Indexes have overlapping values: ['a']\u001b[39;00m\n\u001b[0;32m    346\u001b[0m \u001b[39m    \"\"\"\u001b[39;00m\n\u001b[1;32m--> 347\u001b[0m     op \u001b[39m=\u001b[39m _Concatenator(\n\u001b[0;32m    348\u001b[0m         objs,\n\u001b[0;32m    349\u001b[0m         axis\u001b[39m=\u001b[39;49maxis,\n\u001b[0;32m    350\u001b[0m         ignore_index\u001b[39m=\u001b[39;49mignore_index,\n\u001b[0;32m    351\u001b[0m         join\u001b[39m=\u001b[39;49mjoin,\n\u001b[0;32m    352\u001b[0m         keys\u001b[39m=\u001b[39;49mkeys,\n\u001b[0;32m    353\u001b[0m         levels\u001b[39m=\u001b[39;49mlevels,\n\u001b[0;32m    354\u001b[0m         names\u001b[39m=\u001b[39;49mnames,\n\u001b[0;32m    355\u001b[0m         verify_integrity\u001b[39m=\u001b[39;49mverify_integrity,\n\u001b[0;32m    356\u001b[0m         copy\u001b[39m=\u001b[39;49mcopy,\n\u001b[0;32m    357\u001b[0m         sort\u001b[39m=\u001b[39;49msort,\n\u001b[0;32m    358\u001b[0m     )\n\u001b[0;32m    360\u001b[0m     \u001b[39mreturn\u001b[39;00m op\u001b[39m.\u001b[39mget_result()\n",
      "File \u001b[1;32mc:\\Users\\kairu\\anaconda3\\envs\\TIL6022\\lib\\site-packages\\pandas\\core\\reshape\\concat.py:404\u001b[0m, in \u001b[0;36m_Concatenator.__init__\u001b[1;34m(self, objs, axis, join, keys, levels, names, ignore_index, verify_integrity, copy, sort)\u001b[0m\n\u001b[0;32m    401\u001b[0m     objs \u001b[39m=\u001b[39m \u001b[39mlist\u001b[39m(objs)\n\u001b[0;32m    403\u001b[0m \u001b[39mif\u001b[39;00m \u001b[39mlen\u001b[39m(objs) \u001b[39m==\u001b[39m \u001b[39m0\u001b[39m:\n\u001b[1;32m--> 404\u001b[0m     \u001b[39mraise\u001b[39;00m \u001b[39mValueError\u001b[39;00m(\u001b[39m\"\u001b[39m\u001b[39mNo objects to concatenate\u001b[39m\u001b[39m\"\u001b[39m)\n\u001b[0;32m    406\u001b[0m \u001b[39mif\u001b[39;00m keys \u001b[39mis\u001b[39;00m \u001b[39mNone\u001b[39;00m:\n\u001b[0;32m    407\u001b[0m     objs \u001b[39m=\u001b[39m \u001b[39mlist\u001b[39m(com\u001b[39m.\u001b[39mnot_none(\u001b[39m*\u001b[39mobjs))\n",
      "\u001b[1;31mValueError\u001b[0m: No objects to concatenate"
     ]
    }
   ],
   "source": [
    "results = ExMAS.utils.merge_csvs(None, 'D:/TIL6022/A7/TIL6010-LabAssignments/ExMAS\\ExMAS/data/results/*.csv\"', to_numeric = True)"
   ]
  },
  {
   "cell_type": "code",
   "execution_count": null,
   "metadata": {},
   "outputs": [],
   "source": [
    "results = ExMAS.utils.make_KPIs(results, params = ExMAS.utils.get_config('ExMAS/data/configs/default.json'))"
   ]
  },
  {
   "cell_type": "code",
   "execution_count": null,
   "metadata": {},
   "outputs": [],
   "source": [
    "import matplotlib.pyplot as plt\n",
    "plt.rcParams['figure.figsize'] = [4, 4]\n",
    "plt.rcParams[\"font.family\"] = \"Helvetica\"\n",
    "plt.style.use('ggplot')"
   ]
  },
  {
   "cell_type": "code",
   "execution_count": null,
   "metadata": {},
   "outputs": [],
   "source": [
    "tp = results[(results.horizon == -1) \n",
    "       & (results.shared_discount == 0.3)\n",
    "       & (results.nP >0)]\n",
    "_ = ExMAS.utils.plot_paper_multi(tp, x = '$Q$', \n",
    "                 ys = ['$\\Delta T_r$', '$\\Delta T_q$', '$\\Delta U_r$'], figname = '1_1.svg', y_label = 'rel. diff.', path = '')"
   ]
  },
  {
   "cell_type": "code",
   "execution_count": null,
   "metadata": {},
   "outputs": [],
   "source": [
    "tp = results[(results.horizon == -1) \n",
    "       & (results.nP ==300)]\n",
    "_ = ExMAS.utils.plot_paper_multi(tp, x = '$\\lambda$', \n",
    "                 ys = ['$\\Delta T_r$', '$\\Delta T_q$', '$\\Delta U_r$'], figname = '1_1.svg', y_label = 'rel. diff.', path = '')"
   ]
  },
  {
   "cell_type": "code",
   "execution_count": null,
   "metadata": {},
   "outputs": [],
   "source": [
    "tp = results[(results.shared_discount == 0.3)\n",
    "       & (results.nP ==300)]\n",
    "_ = ExMAS.utils.plot_paper_multi(tp, x = '$T$', \n",
    "                 ys = ['$\\Delta T_r$', '$\\Delta T_q$', '$\\Delta U_r$'], figname = '1_1.svg', y_label = 'rel. diff.', path = '')"
   ]
  },
  {
   "cell_type": "markdown",
   "metadata": {},
   "source": [
    "---\n",
    "(c) Rafał Kucharski, Delft, 2020"
   ]
  }
 ],
 "metadata": {
  "kernelspec": {
   "display_name": "Python 3.9.13 ('TIL6022')",
   "language": "python",
   "name": "python3"
  },
  "language_info": {
   "codemirror_mode": {
    "name": "ipython",
    "version": 3
   },
   "file_extension": ".py",
   "mimetype": "text/x-python",
   "name": "python",
   "nbconvert_exporter": "python",
   "pygments_lexer": "ipython3",
   "version": "3.9.13"
  },
  "vscode": {
   "interpreter": {
    "hash": "2d9c2ee73b1d2668f5711e1e9a7275afe4bd997c69edac67a32ba19cfc372caa"
   }
  }
 },
 "nbformat": 4,
 "nbformat_minor": 4
}
