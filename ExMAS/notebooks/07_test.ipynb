{
 "cells": [
  {
   "cell_type": "code",
   "execution_count": 1,
   "metadata": {},
   "outputs": [],
   "source": [
    "import os\n",
    "cwd = os.getcwd()\n",
    "import pandas as pd"
   ]
  },
  {
   "cell_type": "code",
   "execution_count": 2,
   "metadata": {},
   "outputs": [
    {
     "ename": "ModuleNotFoundError",
     "evalue": "No module named 'ExMAS'",
     "output_type": "error",
     "traceback": [
      "\u001b[1;31m---------------------------------------------------------------------------\u001b[0m",
      "\u001b[1;31mModuleNotFoundError\u001b[0m                       Traceback (most recent call last)",
      "\u001b[1;32mUntitled-1.ipynb Cell 2\u001b[0m in \u001b[0;36m<cell line: 2>\u001b[1;34m()\u001b[0m\n\u001b[0;32m      <a href='vscode-notebook-cell:Untitled-1.ipynb?jupyter-notebook#W1sdW50aXRsZWQ%3D?line=0'>1</a>\u001b[0m os\u001b[39m.\u001b[39mchdir(os\u001b[39m.\u001b[39mpath\u001b[39m.\u001b[39mjoin(cwd,\u001b[39m'\u001b[39m\u001b[39m../..\u001b[39m\u001b[39m'\u001b[39m))\n\u001b[1;32m----> <a href='vscode-notebook-cell:Untitled-1.ipynb?jupyter-notebook#W1sdW50aXRsZWQ%3D?line=1'>2</a>\u001b[0m \u001b[39mimport\u001b[39;00m \u001b[39mExMAS\u001b[39;00m\u001b[39m.\u001b[39;00m\u001b[39mmain\u001b[39;00m\n\u001b[0;32m      <a href='vscode-notebook-cell:Untitled-1.ipynb?jupyter-notebook#W1sdW50aXRsZWQ%3D?line=2'>3</a>\u001b[0m \u001b[39mimport\u001b[39;00m \u001b[39mExMAS\u001b[39;00m\u001b[39m.\u001b[39;00m\u001b[39mutils\u001b[39;00m\n",
      "\u001b[1;31mModuleNotFoundError\u001b[0m: No module named 'ExMAS'"
     ]
    }
   ],
   "source": [
    "os.chdir(os.path.join(cwd,'../..'))\n",
    "import ExMAS.main\n",
    "import ExMAS.utils"
   ]
  },
  {
   "cell_type": "code",
   "execution_count": null,
   "metadata": {},
   "outputs": [],
   "source": [
    "from ExMAS.utils import inData as inData"
   ]
  },
  {
   "cell_type": "markdown",
   "metadata": {},
   "source": [
    "Search Space"
   ]
  },
  {
   "cell_type": "code",
   "execution_count": null,
   "metadata": {},
   "outputs": [],
   "source": [
    "price = [1.5,2,2.5,3]\n",
    "shared_discount = [0.2,0.25,0.3]"
   ]
  },
  {
   "cell_type": "code",
   "execution_count": null,
   "metadata": {},
   "outputs": [],
   "source": [
    "params = ExMAS.utils.get_config('D:\\\\TIL6022\\\\A7\\\\TIL6010-LabAssignments\\\\ExMAS\\\\ExMAS\\\\data\\\\configs\\\\amsterdam.json') # load the default \n",
    "params.simTime = 4\n",
    "\n",
    "KPI_df = pd.DataFrame()\n",
    "KPI_df['description']  = ExMAS.utils.KPIs_descriptions\n",
    "\n",
    "\n",
    "for i in price:\n",
    "    for j in shared_discount:\n",
    "        params.price = i\n",
    "        params.shared_discount = j\n",
    "        print(i,j)\n",
    "\n",
    "        inData = ExMAS.utils.load_G(inData, params, stats=True)\n",
    "        inData = ExMAS.utils.generate_demand(inData, params)\n",
    "        inData = ExMAS.main(inData, params)\n",
    "        KPIs = inData.sblts.res.to_frame()\n",
    "        KPIs.columns = [str(i)+' '+str(j)]\n",
    "        pd.concat([KPI_df,KPIs],axis = 1)\n",
    "        print('next')\n"
   ]
  }
 ],
 "metadata": {
  "kernelspec": {
   "display_name": "Python 3.9.13 ('TIL6022')",
   "language": "python",
   "name": "python3"
  },
  "language_info": {
   "codemirror_mode": {
    "name": "ipython",
    "version": 3
   },
   "file_extension": ".py",
   "mimetype": "text/x-python",
   "name": "python",
   "nbconvert_exporter": "python",
   "pygments_lexer": "ipython3",
   "version": "3.9.13"
  },
  "orig_nbformat": 4,
  "vscode": {
   "interpreter": {
    "hash": "2d9c2ee73b1d2668f5711e1e9a7275afe4bd997c69edac67a32ba19cfc372caa"
   }
  }
 },
 "nbformat": 4,
 "nbformat_minor": 2
}
