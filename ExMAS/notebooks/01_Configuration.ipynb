{
 "cells": [
  {
   "cell_type": "markdown",
   "metadata": {},
   "source": [
    "## ExMAS\n",
    "> *Exact Matching of Attractive Shared rides (ExMAS) for system-wide strategic evaluations*\n",
    "> \n",
    "> Kucharski R. Cats O. ,_Transportation Research Part: B_, 2020\n",
    "\n",
    "---\n",
    "#### Configuration\n",
    "\n",
    "ExMAS is controlled from `.json` file which can be modified with different parameters to be stored and used in custom experiments\n",
    "\n",
    "---"
   ]
  },
  {
   "cell_type": "code",
   "execution_count": 1,
   "metadata": {},
   "outputs": [],
   "source": [
    "import os\n",
    "cwd = os.getcwd()"
   ]
  },
  {
   "cell_type": "code",
   "execution_count": 5,
   "metadata": {},
   "outputs": [],
   "source": [
    "os.chdir(os.path.join(cwd,'../..'))  # main package directory\n",
    "import ExMAS\n",
    "import ExMAS.utils\n",
    "import pprint"
   ]
  },
  {
   "cell_type": "markdown",
   "metadata": {},
   "source": [
    "load the default config"
   ]
  },
  {
   "cell_type": "code",
   "execution_count": 6,
   "metadata": {},
   "outputs": [],
   "source": [
    "params = ExMAS.utils.get_config('ExMAS/data/configs/default.json') # load the default"
   ]
  },
  {
   "cell_type": "markdown",
   "metadata": {},
   "source": [
    "modify parameters"
   ]
  },
  {
   "cell_type": "code",
   "execution_count": 7,
   "metadata": {},
   "outputs": [],
   "source": [
    "params.nP = 200 # number of trips\n",
    "params.simTime = 1 # hours\n",
    "params.city = 'Delft, Netherlands'\n",
    "params.avg_speed = 8 # m/s\n",
    "params.shared_discount = 0.3  # relative discount for sharing (i.e. instead of 10EUR single you pay (1-0.3)*10EUR\n",
    "params.delay_value = 1  # discomfort of delay (beta)\n",
    "params.WtS = 1.3  # willingness to share\n",
    "params.price = 1.5 # eur/km\n",
    "params.VoT = 0.0035 # Value-of-time [eur/s]\n",
    "params.matching_obj = 'u_veh' # objective in matching trips to shared rides ['u_veh', or 'u_pax']\n",
    "params.pax_delay = 15  # delay for each picked-up traveller  [s]\n",
    "params.horizon = 1200  # planning horizon\n",
    "params.max_degree = 8 # capacity of vehicles (paxes)"
   ]
  },
  {
   "cell_type": "code",
   "execution_count": 8,
   "metadata": {},
   "outputs": [],
   "source": [
    "params = ExMAS.utils.make_paths(params)\n",
    "params.t0 = '15:00'"
   ]
  },
  {
   "cell_type": "code",
   "execution_count": 9,
   "metadata": {},
   "outputs": [
    {
     "name": "stdout",
     "output_type": "stream",
     "text": [
      "{'VoT': 0.0035,\n",
      " 'WtS': 1.3,\n",
      " 'avg_speed': 8,\n",
      " 'city': 'Delft, Netherlands',\n",
      " 'delay_value': 1,\n",
      " 'demand_structure': {'destinations_dispertion': -0.001,\n",
      "                      'origins_dispertion': -0.0003,\n",
      "                      'temporal_dispertion': 0.3,\n",
      "                      'temporal_distribution': 'uniform'},\n",
      " 'dist_threshold': 100000,\n",
      " 'horizon': 1200,\n",
      " 'matching_obj': 'u_veh',\n",
      " 'max_degree': 8,\n",
      " 'nP': 200,\n",
      " 'paths': {'G': 'ExMAS\\\\data\\\\graphs\\\\Delft.graphml',\n",
      "           'albatross': 'ExMAS\\\\data\\\\albatross',\n",
      "           'data': 'ExMAS\\\\data',\n",
      "           'main': 'ExMAS',\n",
      "           'params': 'ExMAS\\\\data\\\\configs',\n",
      "           'postcodes': 'ExMAS\\\\data\\\\postcodes\\\\PC4_Nederland_2015.shp',\n",
      "           'skim': 'ExMAS\\\\data\\\\graphs\\\\Delft.csv'},\n",
      " 'pax_delay': 15,\n",
      " 'price': 1.5,\n",
      " 'profitability': False,\n",
      " 'shared_discount': 0.3,\n",
      " 'simTime': 1,\n",
      " 't0': '15:00'}\n"
     ]
    }
   ],
   "source": [
    "pprint.pprint(params)"
   ]
  },
  {
   "cell_type": "markdown",
   "metadata": {},
   "source": [
    "save"
   ]
  },
  {
   "cell_type": "code",
   "execution_count": 10,
   "metadata": {},
   "outputs": [],
   "source": [
    "ExMAS.utils.save_config(params, 'ExMAS/data/configs/my_config.json')"
   ]
  },
  {
   "cell_type": "markdown",
   "metadata": {},
   "source": [
    "---\n",
    "(c) Rafał Kucharski, Delft, 2020"
   ]
  }
 ],
 "metadata": {
  "kernelspec": {
   "display_name": "Python 3.9.13 ('TIL6022')",
   "language": "python",
   "name": "python3"
  },
  "language_info": {
   "codemirror_mode": {
    "name": "ipython",
    "version": 3
   },
   "file_extension": ".py",
   "mimetype": "text/x-python",
   "name": "python",
   "nbconvert_exporter": "python",
   "pygments_lexer": "ipython3",
   "version": "3.9.13"
  },
  "vscode": {
   "interpreter": {
    "hash": "2d9c2ee73b1d2668f5711e1e9a7275afe4bd997c69edac67a32ba19cfc372caa"
   }
  }
 },
 "nbformat": 4,
 "nbformat_minor": 4
}
