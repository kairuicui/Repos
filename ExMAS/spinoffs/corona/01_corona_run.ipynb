{
 "cells": [
  {
   "cell_type": "markdown",
   "metadata": {},
   "source": [
    "## ExMAS\n",
    "> *Exact Matching of Attractive Shared rides (ExMAS) for system-wide strategic evaluations*\n",
    "> \n",
    "> Kucharski R. Cats O. ,_Transportation Research Part: B_, 2020\n",
    "\n",
    "---\n",
    "#### CORONA\n",
    "\n",
    "Sample virus spreading simulation on Amsterdam ride-pooling network\n",
    "\n",
    "> Amsterdam network needs to be loaded from `osmnx` (see tutorial [here](https://github.com/RafalKucharskiPK/ExMAS/blob/master/ExMAS/notebooks/02_Network_graphs.ipynb) )\n",
    "\n",
    "---"
   ]
  },
  {
   "cell_type": "code",
   "execution_count": 1,
   "metadata": {},
   "outputs": [],
   "source": [
    "import os\n",
    "cwd = os.getcwd()"
   ]
  },
  {
   "cell_type": "code",
   "execution_count": 2,
   "metadata": {},
   "outputs": [],
   "source": [
    "os.chdir(os.path.join(cwd,'../../..'))\n",
    "import ExMAS.main\n",
    "import ExMAS.utils\n",
    "import ExMAS.corona"
   ]
  },
  {
   "cell_type": "markdown",
   "metadata": {},
   "source": [
    "Single simulation"
   ]
  },
  {
   "cell_type": "code",
   "execution_count": 3,
   "metadata": {},
   "outputs": [
    {
     "name": "stdout",
     "output_type": "stream",
     "text": [
      "02-03-21 12:05:13-INFO-Initializing pairwise trip shareability between 3200 and 3200 trips.\n",
      "02-03-21 12:05:13-INFO-creating combinations\n",
      "02-03-21 12:05:28-INFO-10236800\t nR*(nR-1)\n",
      "02-03-21 12:07:26-INFO-Reduction of feasible pairs by 99.97%\n",
      "02-03-21 12:07:26-INFO-Degree 2 \tCompleted\n",
      "02-03-21 12:07:27-INFO-trips to extend at degree 2 : 7041\n",
      "02-03-21 12:07:30-INFO-At degree 2 feasible extensions found out of 173 searched\n",
      "02-03-21 12:07:30-INFO-Degree 3 \tCompleted\n",
      "02-03-21 12:07:30-INFO-trips to extend at degree 3 : 173\n",
      "02-03-21 12:07:30-INFO-At degree 3 feasible extensions found out of 5 searched\n",
      "02-03-21 12:07:30-INFO-Degree 4 \tCompleted\n",
      "02-03-21 12:07:30-INFO-trips to extend at degree 4 : 5\n",
      "02-03-21 12:07:30-INFO-At degree 4 feasible extensions found out of 0 searched\n",
      "02-03-21 12:07:30-INFO-Degree 5 \tCompleted\n",
      "02-03-21 12:07:30-INFO-No more trips to exted at degree 5\n",
      "02-03-21 12:07:31-INFO-day 1\n",
      "02-03-21 12:07:40-INFO-Matching 2000 trips to 4914 rides in order to minimize u_veh\n",
      "02-03-21 12:07:45-INFO-Problem solution: Optimal. \n",
      "Total costs for single trips:      1,100,109 \n",
      "reduced by matching to:              902,161\n",
      "02-03-21 12:07:49-INFO-state\n",
      "I     380\n",
      "S    2820\n",
      "dtype: int64\n",
      "02-03-21 12:07:49-INFO-Day: 1\t infected: 380\t quarantined: 0\t recovered: 0 \t susceptible: 2820, active today: 2000.\n",
      "02-03-21 12:07:49-INFO-day 2\n",
      "02-03-21 12:07:58-INFO-Matching 2000 trips to 4867 rides in order to minimize u_veh\n",
      "02-03-21 12:08:02-INFO-Problem solution: Optimal. \n",
      "Total costs for single trips:      1,098,211 \n",
      "reduced by matching to:              898,711\n",
      "02-03-21 12:08:07-INFO-state\n",
      "I     474\n",
      "S    2726\n",
      "dtype: int64\n",
      "02-03-21 12:08:07-INFO-Day: 2\t infected: 474\t quarantined: 0\t recovered: 0 \t susceptible: 2726, active today: 2000.\n",
      "02-03-21 12:08:07-INFO-day 3\n",
      "02-03-21 12:08:15-INFO-Matching 2000 trips to 4823 rides in order to minimize u_veh\n",
      "02-03-21 12:08:20-INFO-Problem solution: Optimal. \n",
      "Total costs for single trips:      1,089,014 \n",
      "reduced by matching to:              893,238\n",
      "02-03-21 12:08:24-INFO-state\n",
      "I     552\n",
      "S    2648\n",
      "dtype: int64\n",
      "02-03-21 12:08:24-INFO-Day: 3\t infected: 552\t quarantined: 0\t recovered: 0 \t susceptible: 2648, active today: 2000.\n",
      "02-03-21 12:08:24-INFO-day 4\n",
      "02-03-21 12:08:32-INFO-Matching 2000 trips to 4821 rides in order to minimize u_veh\n",
      "02-03-21 12:08:37-INFO-Problem solution: Optimal. \n",
      "Total costs for single trips:      1,088,878 \n",
      "reduced by matching to:              896,066\n",
      "02-03-21 12:08:41-INFO-state\n",
      "I     632\n",
      "S    2568\n",
      "dtype: int64\n",
      "02-03-21 12:08:41-INFO-Day: 4\t infected: 632\t quarantined: 0\t recovered: 0 \t susceptible: 2568, active today: 2000.\n",
      "02-03-21 12:08:41-INFO-day 5\n",
      "02-03-21 12:08:50-INFO-Matching 2000 trips to 4843 rides in order to minimize u_veh\n",
      "02-03-21 12:08:55-INFO-Problem solution: Optimal. \n",
      "Total costs for single trips:      1,110,688 \n",
      "reduced by matching to:              908,112\n",
      "02-03-21 12:08:59-INFO-state\n",
      "I     690\n",
      "S    2510\n",
      "dtype: int64\n",
      "02-03-21 12:08:59-INFO-Day: 5\t infected: 690\t quarantined: 0\t recovered: 0 \t susceptible: 2510, active today: 2000.\n",
      "02-03-21 12:08:59-INFO-day 6\n",
      "02-03-21 12:09:07-INFO-Matching 2000 trips to 4910 rides in order to minimize u_veh\n",
      "02-03-21 12:09:12-INFO-Problem solution: Optimal. \n",
      "Total costs for single trips:      1,104,707 \n",
      "reduced by matching to:              903,402\n",
      "02-03-21 12:09:16-INFO-state\n",
      "I     733\n",
      "S    2467\n",
      "dtype: int64\n",
      "02-03-21 12:09:16-INFO-Day: 6\t infected: 733\t quarantined: 0\t recovered: 0 \t susceptible: 2467, active today: 2000.\n",
      "02-03-21 12:09:16-INFO-day 7\n",
      "02-03-21 12:09:24-INFO-Matching 1782 trips to 3933 rides in order to minimize u_veh\n",
      "02-03-21 12:09:27-INFO-Problem solution: Optimal. \n",
      "Total costs for single trips:        974,919 \n",
      "reduced by matching to:              813,295\n",
      "02-03-21 12:09:31-INFO-state\n",
      "I     530\n",
      "Q     262\n",
      "S    2408\n",
      "dtype: int64\n",
      "02-03-21 12:09:31-INFO-Day: 7\t infected: 530\t quarantined: 262\t recovered: 0 \t susceptible: 2408, active today: 1782.\n",
      "02-03-21 12:09:31-INFO-day 8\n",
      "02-03-21 12:09:39-INFO-Matching 1689 trips to 3674 rides in order to minimize u_veh\n",
      "02-03-21 12:09:42-INFO-Problem solution: Optimal. \n",
      "Total costs for single trips:        919,788 \n",
      "reduced by matching to:              764,978\n"
     ]
    },
    {
     "ename": "KeyboardInterrupt",
     "evalue": "",
     "output_type": "error",
     "traceback": [
      "\u001b[0;31m---------------------------------------------------------------------------\u001b[0m",
      "\u001b[0;31mKeyboardInterrupt\u001b[0m                         Traceback (most recent call last)",
      "\u001b[0;32m<ipython-input-3-c7fec00d2fd3>\u001b[0m in \u001b[0;36m<module>\u001b[0;34m\u001b[0m\n\u001b[0;32m----> 1\u001b[0;31m \u001b[0mExMAS\u001b[0m\u001b[0;34m.\u001b[0m\u001b[0mcorona\u001b[0m\u001b[0;34m.\u001b[0m\u001b[0mcorona_run\u001b[0m\u001b[0;34m(\u001b[0m\u001b[0mworkers\u001b[0m\u001b[0;34m=\u001b[0m\u001b[0;36m1\u001b[0m\u001b[0;34m,\u001b[0m \u001b[0mreplications\u001b[0m\u001b[0;34m=\u001b[0m\u001b[0;36m1\u001b[0m\u001b[0;34m,\u001b[0m \u001b[0mprep\u001b[0m \u001b[0;34m=\u001b[0m \u001b[0;32mTrue\u001b[0m\u001b[0;34m,\u001b[0m \u001b[0mtest\u001b[0m\u001b[0;34m=\u001b[0m\u001b[0;32mTrue\u001b[0m\u001b[0;34m,\u001b[0m \u001b[0mbrute\u001b[0m \u001b[0;34m=\u001b[0m \u001b[0;32mFalse\u001b[0m\u001b[0;34m)\u001b[0m\u001b[0;34m\u001b[0m\u001b[0;34m\u001b[0m\u001b[0m\n\u001b[0m",
      "\u001b[0;32m~/Documents/GitHub/ExMAS/ExMAS/corona.py\u001b[0m in \u001b[0;36mcorona_run\u001b[0;34m(workers, replications, search_space, test, prep, brute)\u001b[0m\n\u001b[1;32m    497\u001b[0m                              workers=workers)\n\u001b[1;32m    498\u001b[0m     \u001b[0;32melse\u001b[0m\u001b[0;34m:\u001b[0m\u001b[0;34m\u001b[0m\u001b[0;34m\u001b[0m\u001b[0m\n\u001b[0;32m--> 499\u001b[0;31m         \u001b[0mpipe\u001b[0m\u001b[0;34m(\u001b[0m\u001b[0minData\u001b[0m\u001b[0;34m,\u001b[0m \u001b[0mparams\u001b[0m\u001b[0;34m)\u001b[0m\u001b[0;34m\u001b[0m\u001b[0;34m\u001b[0m\u001b[0m\n\u001b[0m\u001b[1;32m    500\u001b[0m \u001b[0;34m\u001b[0m\u001b[0m\n\u001b[1;32m    501\u001b[0m \u001b[0;34m\u001b[0m\u001b[0m\n",
      "\u001b[0;32m~/Documents/GitHub/ExMAS/ExMAS/corona.py\u001b[0m in \u001b[0;36mpipe\u001b[0;34m(inData, params)\u001b[0m\n\u001b[1;32m    244\u001b[0m \u001b[0;34m\u001b[0m\u001b[0m\n\u001b[1;32m    245\u001b[0m     \u001b[0;32mif\u001b[0m \u001b[0;32mnot\u001b[0m \u001b[0mparams\u001b[0m\u001b[0;34m.\u001b[0m\u001b[0mget\u001b[0m\u001b[0;34m(\u001b[0m\u001b[0;34m'prep_only'\u001b[0m\u001b[0;34m,\u001b[0m \u001b[0;32mFalse\u001b[0m\u001b[0;34m)\u001b[0m\u001b[0;34m:\u001b[0m\u001b[0;34m\u001b[0m\u001b[0;34m\u001b[0m\u001b[0m\n\u001b[0;32m--> 246\u001b[0;31m         \u001b[0minData\u001b[0m \u001b[0;34m=\u001b[0m \u001b[0mevolve\u001b[0m\u001b[0;34m(\u001b[0m\u001b[0minData\u001b[0m\u001b[0;34m,\u001b[0m \u001b[0mparams\u001b[0m\u001b[0;34m,\u001b[0m \u001b[0m_print\u001b[0m\u001b[0;34m=\u001b[0m\u001b[0;32mFalse\u001b[0m\u001b[0;34m,\u001b[0m \u001b[0m_plot\u001b[0m\u001b[0;34m=\u001b[0m\u001b[0mparams\u001b[0m\u001b[0;34m.\u001b[0m\u001b[0mplot\u001b[0m\u001b[0;34m)\u001b[0m  \u001b[0;31m# <---- MAIN\u001b[0m\u001b[0;34m\u001b[0m\u001b[0;34m\u001b[0m\u001b[0m\n\u001b[0m\u001b[1;32m    247\u001b[0m \u001b[0;34m\u001b[0m\u001b[0m\n\u001b[1;32m    248\u001b[0m \u001b[0;34m\u001b[0m\u001b[0m\n",
      "\u001b[0;32m~/Documents/GitHub/ExMAS/ExMAS/corona.py\u001b[0m in \u001b[0;36mevolve\u001b[0;34m(inData, params, _print, _plot)\u001b[0m\n\u001b[1;32m    160\u001b[0m \u001b[0;34m\u001b[0m\u001b[0m\n\u001b[1;32m    161\u001b[0m         \u001b[0;31m# redo matching\u001b[0m\u001b[0;34m\u001b[0m\u001b[0;34m\u001b[0m\u001b[0;34m\u001b[0m\u001b[0m\n\u001b[0;32m--> 162\u001b[0;31m         \u001b[0minData\u001b[0m \u001b[0;34m=\u001b[0m \u001b[0mmatching\u001b[0m\u001b[0;34m(\u001b[0m\u001b[0minData\u001b[0m\u001b[0;34m,\u001b[0m \u001b[0mparams\u001b[0m\u001b[0;34m,\u001b[0m \u001b[0m_print\u001b[0m\u001b[0;34m)\u001b[0m\u001b[0;34m\u001b[0m\u001b[0;34m\u001b[0m\u001b[0m\n\u001b[0m\u001b[1;32m    163\u001b[0m \u001b[0;34m\u001b[0m\u001b[0m\n\u001b[1;32m    164\u001b[0m         \u001b[0;31m# and infect\u001b[0m\u001b[0;34m\u001b[0m\u001b[0;34m\u001b[0m\u001b[0;34m\u001b[0m\u001b[0m\n",
      "\u001b[0;32m~/Documents/GitHub/ExMAS/ExMAS/main.py\u001b[0m in \u001b[0;36mmatching\u001b[0;34m(_inData, params, plot, make_assertion)\u001b[0m\n\u001b[1;32m    841\u001b[0m         \u001b[0;32mfor\u001b[0m \u001b[0mj\u001b[0m\u001b[0;34m,\u001b[0m \u001b[0mtrip\u001b[0m \u001b[0;32min\u001b[0m \u001b[0menumerate\u001b[0m\u001b[0;34m(\u001b[0m\u001b[0msh\u001b[0m\u001b[0;34m.\u001b[0m\u001b[0mindexes\u001b[0m\u001b[0;34m)\u001b[0m\u001b[0;34m:\u001b[0m\u001b[0;34m\u001b[0m\u001b[0;34m\u001b[0m\u001b[0m\n\u001b[1;32m    842\u001b[0m             \u001b[0mpos_o\u001b[0m \u001b[0;34m=\u001b[0m \u001b[0msh\u001b[0m\u001b[0;34m.\u001b[0m\u001b[0mindexes_orig\u001b[0m\u001b[0;34m.\u001b[0m\u001b[0mindex\u001b[0m\u001b[0;34m(\u001b[0m\u001b[0mtrip\u001b[0m\u001b[0;34m)\u001b[0m \u001b[0;34m+\u001b[0m \u001b[0;36m1\u001b[0m\u001b[0;34m\u001b[0m\u001b[0;34m\u001b[0m\u001b[0m\n\u001b[0;32m--> 843\u001b[0;31m             \u001b[0mpos_d\u001b[0m \u001b[0;34m=\u001b[0m \u001b[0msh\u001b[0m\u001b[0;34m.\u001b[0m\u001b[0mindexes_dest\u001b[0m\u001b[0;34m.\u001b[0m\u001b[0mindex\u001b[0m\u001b[0;34m(\u001b[0m\u001b[0mtrip\u001b[0m\u001b[0;34m)\u001b[0m \u001b[0;34m+\u001b[0m \u001b[0;36m1\u001b[0m \u001b[0;34m+\u001b[0m \u001b[0mlen\u001b[0m\u001b[0;34m(\u001b[0m\u001b[0msh\u001b[0m\u001b[0;34m.\u001b[0m\u001b[0mindexes\u001b[0m\u001b[0;34m)\u001b[0m\u001b[0;34m\u001b[0m\u001b[0;34m\u001b[0m\u001b[0m\n\u001b[0m\u001b[1;32m    844\u001b[0m             \u001b[0mttrav_sh\u001b[0m\u001b[0;34m[\u001b[0m\u001b[0mtrip\u001b[0m\u001b[0;34m]\u001b[0m \u001b[0;34m=\u001b[0m \u001b[0msum\u001b[0m\u001b[0;34m(\u001b[0m\u001b[0msh\u001b[0m\u001b[0;34m.\u001b[0m\u001b[0mtimes\u001b[0m\u001b[0;34m[\u001b[0m\u001b[0mpos_o\u001b[0m\u001b[0;34m:\u001b[0m\u001b[0mpos_d\u001b[0m\u001b[0;34m]\u001b[0m\u001b[0;34m)\u001b[0m\u001b[0;34m\u001b[0m\u001b[0;34m\u001b[0m\u001b[0m\n\u001b[1;32m    845\u001b[0m             \u001b[0mu_sh\u001b[0m\u001b[0;34m[\u001b[0m\u001b[0mtrip\u001b[0m\u001b[0;34m]\u001b[0m \u001b[0;34m=\u001b[0m \u001b[0msh\u001b[0m\u001b[0;34m.\u001b[0m\u001b[0mu_paxes\u001b[0m\u001b[0;34m[\u001b[0m\u001b[0mj\u001b[0m\u001b[0;34m]\u001b[0m\u001b[0;34m\u001b[0m\u001b[0;34m\u001b[0m\u001b[0m\n",
      "\u001b[0;32m~/anaconda3/envs/maassim/lib/python3.7/site-packages/pandas/core/generic.py\u001b[0m in \u001b[0;36m__getattr__\u001b[0;34m(self, name)\u001b[0m\n\u001b[1;32m   5255\u001b[0m         \u001b[0;32mreturn\u001b[0m \u001b[0mself\u001b[0m\u001b[0;34m\u001b[0m\u001b[0;34m\u001b[0m\u001b[0m\n\u001b[1;32m   5256\u001b[0m \u001b[0;34m\u001b[0m\u001b[0m\n\u001b[0;32m-> 5257\u001b[0;31m     \u001b[0;32mdef\u001b[0m \u001b[0m__getattr__\u001b[0m\u001b[0;34m(\u001b[0m\u001b[0mself\u001b[0m\u001b[0;34m,\u001b[0m \u001b[0mname\u001b[0m\u001b[0;34m:\u001b[0m \u001b[0mstr\u001b[0m\u001b[0;34m)\u001b[0m\u001b[0;34m:\u001b[0m\u001b[0;34m\u001b[0m\u001b[0;34m\u001b[0m\u001b[0m\n\u001b[0m\u001b[1;32m   5258\u001b[0m         \"\"\"After regular attribute access, try looking up the name\n\u001b[1;32m   5259\u001b[0m         \u001b[0mThis\u001b[0m \u001b[0mallows\u001b[0m \u001b[0msimpler\u001b[0m \u001b[0maccess\u001b[0m \u001b[0mto\u001b[0m \u001b[0mcolumns\u001b[0m \u001b[0;32mfor\u001b[0m \u001b[0minteractive\u001b[0m \u001b[0muse\u001b[0m\u001b[0;34m.\u001b[0m\u001b[0;34m\u001b[0m\u001b[0;34m\u001b[0m\u001b[0m\n",
      "\u001b[0;31mKeyboardInterrupt\u001b[0m: "
     ]
    }
   ],
   "source": [
    "ExMAS.corona.corona_run(workers=1, replications=1, prep = True, test=True, brute = False)"
   ]
  },
  {
   "cell_type": "markdown",
   "metadata": {},
   "source": [
    "### Experimental study\n",
    "\n",
    "\n",
    "study from the paper.\n",
    "\n",
    "Best to be run on multithreaded remote server (takes ca. 3 days to compute)"
   ]
  },
  {
   "cell_type": "code",
   "execution_count": null,
   "metadata": {},
   "outputs": [],
   "source": [
    "search_space = DotMap()\n",
    "search_space.initial_share = [0.001, 0.002, 0.005, 0.01]\n",
    "search_space.p = [0.65, 0.7, 0.75, 0.8, 0.85, 0.9, 0.95, 0.99, 1]"
   ]
  },
  {
   "cell_type": "code",
   "execution_count": null,
   "metadata": {},
   "outputs": [],
   "source": [
    "#ExMAS.corona.corona_run(workers=2, replications=10, search_spce = search_space, prep=True, test=False, brute=True)"
   ]
  }
 ],
 "metadata": {
  "kernelspec": {
   "display_name": "Python 3",
   "language": "python",
   "name": "python3"
  },
  "language_info": {
   "codemirror_mode": {
    "name": "ipython",
    "version": 3
   },
   "file_extension": ".py",
   "mimetype": "text/x-python",
   "name": "python",
   "nbconvert_exporter": "python",
   "pygments_lexer": "ipython3",
   "version": "3.7.6"
  }
 },
 "nbformat": 4,
 "nbformat_minor": 4
}
