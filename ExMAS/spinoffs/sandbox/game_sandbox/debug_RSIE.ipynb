{
 "cells": [
  {
   "cell_type": "markdown",
   "metadata": {},
   "source": [
    "## ExMAS\n",
    "> Equilibrium matching\n",
    "\n",
    "\n",
    "\n",
    "Here I:\n",
    "\n",
    "* generatre demand\n",
    "* compute groups with ExMAS\n",
    "* compute costs for groups and travellers\n",
    "* apply Externality splitting protocol\n",
    "* run ExMAS\n",
    "* prune groups with RSIE\n",
    "* see if there is a group in ExMAS which is then mutually unstable with RSIE - it is (834,29)\n",
    "* I report why it is unstable\n"
   ]
  },
  {
   "cell_type": "code",
   "execution_count": 1,
   "metadata": {},
   "outputs": [],
   "source": [
    "import os\n",
    "import math\n",
    "import seaborn as sns\n",
    "import numpy as np\n",
    "import pandas as pd\n",
    "import matplotlib.pyplot as plt\n",
    "cwd = os.getcwd()\n",
    "%load_ext autoreload\n",
    "%autoreload 2"
   ]
  },
  {
   "cell_type": "code",
   "execution_count": 2,
   "metadata": {},
   "outputs": [],
   "source": [
    "from IPython.display import display\n",
    "pd.options.display.max_columns = None"
   ]
  },
  {
   "cell_type": "code",
   "execution_count": 4,
   "metadata": {},
   "outputs": [],
   "source": [
    "os.chdir(os.path.join(cwd,'../../..'))\n",
    "import ExMAS.main\n",
    "import ExMAS.utils\n",
    "from ExMAS.utils import inData as inData\n",
    "from ExMAS.main import matching\n",
    "from ExMAS.game import games, pricings, prunings, pipeline"
   ]
  },
  {
   "cell_type": "code",
   "execution_count": 5,
   "metadata": {},
   "outputs": [],
   "source": [
    "params = ExMAS.utils.get_config('ExMAS/spinoffs/game/pipe.json') # load the default \n",
    "params.t0 = pd.to_datetime(params.t0)\n",
    "params.matching_obj = 'u_pax'\n",
    "inData = ExMAS.utils.load_G(inData, params, stats=True)  # download the graph\n",
    "params.nP = 100\n",
    "params.simTime = 0.1\n",
    "params.shared_discount = 0.3\n",
    "inData = ExMAS.utils.generate_demand(inData, params)  # generate requests"
   ]
  },
  {
   "cell_type": "code",
   "execution_count": 6,
   "metadata": {},
   "outputs": [
    {
     "name": "stdout",
     "output_type": "stream",
     "text": [
      "12-05-22 11:50:46-WARNING-Prepare for game:  1/6\n",
      "12-05-22 11:50:47-WARNING-Prepare for game:  2/6\n",
      "12-05-22 11:50:47-WARNING-Prepare for game:  3/6\n",
      "12-05-22 11:50:47-WARNING-Prepare for game:  4/6\n",
      "12-05-22 11:50:53-WARNING-Prepare for game:  5/6\n",
      "12-05-22 11:50:53-WARNING-Prepare for game:  6/6\n"
     ]
    }
   ],
   "source": [
    "inData = ExMAS.main(inData, params, plot = False)\n",
    "KPIs = inData.sblts.res.to_frame('u_pax')\n",
    "inData = games.prepare_PoA(inData)  # prepare data structures"
   ]
  },
  {
   "cell_type": "code",
   "execution_count": 17,
   "metadata": {},
   "outputs": [],
   "source": [
    "\n",
    "params.time_cost = params.VoT # travellers' cost per travel time\n",
    "params.wait_cost = params.time_cost*1.5 # and waiting\n",
    "params.sharing_penalty_fixed = 0 # fixed penalty (EUR) per \n",
    "params.sharing_penalty_multiplier = 0 # fixed penalty (EUR) per \n",
    "\n",
    "params.veh_cost = 1.3*params.VoT/params.avg_speed # operating costs per kilometer\n",
    "params.fixed_ride_cost = 0.5 # ride fixed costs (per vehicle)"
   ]
  },
  {
   "cell_type": "code",
   "execution_count": 18,
   "metadata": {},
   "outputs": [
    {
     "name": "stdout",
     "output_type": "stream",
     "text": [
      "12-05-22 11:52:45-WARNING-Prepare for game:  1/6\n",
      "12-05-22 11:52:45-WARNING-Prepare for game:  2/6\n",
      "12-05-22 11:52:46-WARNING-Prepare for game:  3/6\n",
      "12-05-22 11:52:46-WARNING-Prepare for game:  4/6\n",
      "12-05-22 11:52:52-WARNING-Prepare for game:  5/6\n",
      "12-05-22 11:52:52-WARNING-Prepare for game:  6/6\n"
     ]
    }
   ],
   "source": [
    "inData = games.prepare_PoA(inData)"
   ]
  },
  {
   "cell_type": "code",
   "execution_count": 19,
   "metadata": {},
   "outputs": [],
   "source": [
    "inData = pricings.update_costs(inData, params)"
   ]
  },
  {
   "cell_type": "code",
   "execution_count": 12,
   "metadata": {},
   "outputs": [],
   "source": [
    "PRICINGS = dict()  # pricings to apply and their names\n",
    "PRICINGS['SUBGROUP'] = pricings.subgroup_split\n",
    "for PRICING, pricing in PRICINGS.items():\n",
    "    inData = pricing(inData)  # apply pricing strategy"
   ]
  },
  {
   "cell_type": "markdown",
   "metadata": {},
   "source": [
    "### RSIE \n",
    "\n",
    "two *unstable* groups cannot be together in the solution \n",
    "\n",
    "if anyone from $G1$ wants to join $G2$ and it is better for the moving traveller and group accepting him."
   ]
  },
  {
   "cell_type": "code",
   "execution_count": 13,
   "metadata": {},
   "outputs": [],
   "source": [
    "inData = prunings.algo_EXMAS(inData, price_column='EXTERNALITY')  # apply pruning strategies for a given pricing strategy"
   ]
  },
  {
   "cell_type": "code",
   "execution_count": 14,
   "metadata": {},
   "outputs": [
    {
     "name": "stdout",
     "output_type": "stream",
     "text": [
      "12-05-22 11:52:17-WARNING-Prunings:  ['EXMAS']\n",
      "12-05-22 11:52:17-WARNING-Pruned nRides 843/843\n",
      "12-05-22 11:52:17-WARNING-Mutually exclusives 0\n",
      "12-05-22 11:52:17-WARNING-Experiment-debug_Pricing-EXTERNALITY_Objective-['total_group_cost']_Pruning-['EXMAS']_minmax-min\n"
     ]
    }
   ],
   "source": [
    "inData = pipeline.single_eval(inData, params,\n",
    "                     MATCHING_OBJS = ['total_group_cost'],  # this can be more\n",
    "                     PRUNINGS = ['EXMAS'],  # and this can be more\n",
    "                     PRICING = 'EXTERNALITY',  # this is taken from first level loop\n",
    "                     minmax = ['min'], EXPERIMENT_NAME = 'debug', store_res = False)  # direction BPoA, WPoAplot_im(inData)"
   ]
  },
  {
   "cell_type": "code",
   "execution_count": 15,
   "metadata": {},
   "outputs": [],
   "source": [
    "ExMAS_matching = inData.sblts.rides.selected.to_frame().copy()\n",
    "ExMAS_matching = ExMAS_matching[ExMAS_matching.selected==1]\n",
    "selecteds = ExMAS_matching.index"
   ]
  },
  {
   "cell_type": "code",
   "execution_count": 16,
   "metadata": {},
   "outputs": [
    {
     "name": "stdout",
     "output_type": "stream",
     "text": [
      "12-05-22 11:52:22-WARNING-Searching unstable pairs 0/843. 0 found so far\n"
     ]
    },
    {
     "ename": "KeyError",
     "evalue": "\"['EXTERNALITY'] not in index\"",
     "output_type": "error",
     "traceback": [
      "\u001b[0;31m---------------------------------------------------------------------------\u001b[0m",
      "\u001b[0;31mKeyError\u001b[0m                                  Traceback (most recent call last)",
      "Input \u001b[0;32mIn [16]\u001b[0m, in \u001b[0;36m<cell line: 1>\u001b[0;34m()\u001b[0m\n\u001b[0;32m----> 1\u001b[0m inData \u001b[38;5;241m=\u001b[39m \u001b[43mprunings\u001b[49m\u001b[38;5;241;43m.\u001b[39;49m\u001b[43malgo_RSIE\u001b[49m\u001b[43m(\u001b[49m\u001b[43minData\u001b[49m\u001b[43m,\u001b[49m\u001b[43m \u001b[49m\u001b[43mprice_column\u001b[49m\u001b[38;5;241;43m=\u001b[39;49m\u001b[38;5;124;43m'\u001b[39;49m\u001b[38;5;124;43mEXTERNALITY\u001b[39;49m\u001b[38;5;124;43m'\u001b[39;49m\u001b[43m)\u001b[49m\n",
      "File \u001b[0;32m~/PycharmProjects/ExMAS/ExMAS/game/prunings.py:156\u001b[0m, in \u001b[0;36malgo_RSIE\u001b[0;34m(inData, price_column, _print)\u001b[0m\n\u001b[1;32m    152\u001b[0m     inData\u001b[38;5;241m.\u001b[39mlogger\u001b[38;5;241m.\u001b[39mwarning(\u001b[38;5;124m'\u001b[39m\u001b[38;5;124mSearching unstable pairs \u001b[39m\u001b[38;5;132;01m{}\u001b[39;00m\u001b[38;5;124m/\u001b[39m\u001b[38;5;132;01m{}\u001b[39;00m\u001b[38;5;124m. \u001b[39m\u001b[38;5;132;01m{}\u001b[39;00m\u001b[38;5;124m found so far\u001b[39m\u001b[38;5;124m'\u001b[39m\u001b[38;5;241m.\u001b[39mformat(G2,\n\u001b[1;32m    153\u001b[0m                                                                                    inData\u001b[38;5;241m.\u001b[39msblts\u001b[38;5;241m.\u001b[39mrides\u001b[38;5;241m.\u001b[39mshape[\u001b[38;5;241m0\u001b[39m],\n\u001b[1;32m    154\u001b[0m                                                                                    \u001b[38;5;28mlen\u001b[39m(unstables)))\n\u001b[1;32m    155\u001b[0m G2s \u001b[38;5;241m=\u001b[39m indexes_set[G2]  \u001b[38;5;66;03m# travellers in G2\u001b[39;00m\n\u001b[0;32m--> 156\u001b[0m costs_of_G2 \u001b[38;5;241m=\u001b[39m \u001b[43mrm\u001b[49m\u001b[38;5;241;43m.\u001b[39;49m\u001b[43mloc\u001b[49m\u001b[43m[\u001b[49m\u001b[43mG2\u001b[49m\u001b[43m,\u001b[49m\u001b[43m \u001b[49m\u001b[43m:\u001b[49m\u001b[43m]\u001b[49m\u001b[43m[\u001b[49m\u001b[43m[\u001b[49m\u001b[38;5;124;43m'\u001b[39;49m\u001b[38;5;124;43mtraveller\u001b[39;49m\u001b[38;5;124;43m'\u001b[39;49m\u001b[43m,\u001b[49m\u001b[43m \u001b[49m\u001b[43mprice_column\u001b[49m\u001b[43m]\u001b[49m\u001b[43m]\u001b[49m  \u001b[38;5;66;03m# costs of group G2 before joining\u001b[39;00m\n\u001b[1;32m    157\u001b[0m \u001b[38;5;28;01mfor\u001b[39;00m G1 \u001b[38;5;129;01min\u001b[39;00m rides\u001b[38;5;241m.\u001b[39mindex:  \u001b[38;5;66;03m# pairs\u001b[39;00m\n\u001b[1;32m    158\u001b[0m     G1s \u001b[38;5;241m=\u001b[39m indexes_set[G1]  \u001b[38;5;66;03m# travellers in G1\u001b[39;00m\n",
      "File \u001b[0;32m/opt/anaconda3/envs/ExMAS/lib/python3.8/site-packages/pandas/core/frame.py:3511\u001b[0m, in \u001b[0;36mDataFrame.__getitem__\u001b[0;34m(self, key)\u001b[0m\n\u001b[1;32m   3509\u001b[0m     \u001b[38;5;28;01mif\u001b[39;00m is_iterator(key):\n\u001b[1;32m   3510\u001b[0m         key \u001b[38;5;241m=\u001b[39m \u001b[38;5;28mlist\u001b[39m(key)\n\u001b[0;32m-> 3511\u001b[0m     indexer \u001b[38;5;241m=\u001b[39m \u001b[38;5;28;43mself\u001b[39;49m\u001b[38;5;241;43m.\u001b[39;49m\u001b[43mcolumns\u001b[49m\u001b[38;5;241;43m.\u001b[39;49m\u001b[43m_get_indexer_strict\u001b[49m\u001b[43m(\u001b[49m\u001b[43mkey\u001b[49m\u001b[43m,\u001b[49m\u001b[43m \u001b[49m\u001b[38;5;124;43m\"\u001b[39;49m\u001b[38;5;124;43mcolumns\u001b[39;49m\u001b[38;5;124;43m\"\u001b[39;49m\u001b[43m)\u001b[49m[\u001b[38;5;241m1\u001b[39m]\n\u001b[1;32m   3513\u001b[0m \u001b[38;5;66;03m# take() does not accept boolean indexers\u001b[39;00m\n\u001b[1;32m   3514\u001b[0m \u001b[38;5;28;01mif\u001b[39;00m \u001b[38;5;28mgetattr\u001b[39m(indexer, \u001b[38;5;124m\"\u001b[39m\u001b[38;5;124mdtype\u001b[39m\u001b[38;5;124m\"\u001b[39m, \u001b[38;5;28;01mNone\u001b[39;00m) \u001b[38;5;241m==\u001b[39m \u001b[38;5;28mbool\u001b[39m:\n",
      "File \u001b[0;32m/opt/anaconda3/envs/ExMAS/lib/python3.8/site-packages/pandas/core/indexes/base.py:5782\u001b[0m, in \u001b[0;36mIndex._get_indexer_strict\u001b[0;34m(self, key, axis_name)\u001b[0m\n\u001b[1;32m   5779\u001b[0m \u001b[38;5;28;01melse\u001b[39;00m:\n\u001b[1;32m   5780\u001b[0m     keyarr, indexer, new_indexer \u001b[38;5;241m=\u001b[39m \u001b[38;5;28mself\u001b[39m\u001b[38;5;241m.\u001b[39m_reindex_non_unique(keyarr)\n\u001b[0;32m-> 5782\u001b[0m \u001b[38;5;28;43mself\u001b[39;49m\u001b[38;5;241;43m.\u001b[39;49m\u001b[43m_raise_if_missing\u001b[49m\u001b[43m(\u001b[49m\u001b[43mkeyarr\u001b[49m\u001b[43m,\u001b[49m\u001b[43m \u001b[49m\u001b[43mindexer\u001b[49m\u001b[43m,\u001b[49m\u001b[43m \u001b[49m\u001b[43maxis_name\u001b[49m\u001b[43m)\u001b[49m\n\u001b[1;32m   5784\u001b[0m keyarr \u001b[38;5;241m=\u001b[39m \u001b[38;5;28mself\u001b[39m\u001b[38;5;241m.\u001b[39mtake(indexer)\n\u001b[1;32m   5785\u001b[0m \u001b[38;5;28;01mif\u001b[39;00m \u001b[38;5;28misinstance\u001b[39m(key, Index):\n\u001b[1;32m   5786\u001b[0m     \u001b[38;5;66;03m# GH 42790 - Preserve name from an Index\u001b[39;00m\n",
      "File \u001b[0;32m/opt/anaconda3/envs/ExMAS/lib/python3.8/site-packages/pandas/core/indexes/base.py:5845\u001b[0m, in \u001b[0;36mIndex._raise_if_missing\u001b[0;34m(self, key, indexer, axis_name)\u001b[0m\n\u001b[1;32m   5842\u001b[0m     \u001b[38;5;28;01mraise\u001b[39;00m \u001b[38;5;167;01mKeyError\u001b[39;00m(\u001b[38;5;124mf\u001b[39m\u001b[38;5;124m\"\u001b[39m\u001b[38;5;124mNone of [\u001b[39m\u001b[38;5;132;01m{\u001b[39;00mkey\u001b[38;5;132;01m}\u001b[39;00m\u001b[38;5;124m] are in the [\u001b[39m\u001b[38;5;132;01m{\u001b[39;00maxis_name\u001b[38;5;132;01m}\u001b[39;00m\u001b[38;5;124m]\u001b[39m\u001b[38;5;124m\"\u001b[39m)\n\u001b[1;32m   5844\u001b[0m not_found \u001b[38;5;241m=\u001b[39m \u001b[38;5;28mlist\u001b[39m(ensure_index(key)[missing_mask\u001b[38;5;241m.\u001b[39mnonzero()[\u001b[38;5;241m0\u001b[39m]]\u001b[38;5;241m.\u001b[39munique())\n\u001b[0;32m-> 5845\u001b[0m \u001b[38;5;28;01mraise\u001b[39;00m \u001b[38;5;167;01mKeyError\u001b[39;00m(\u001b[38;5;124mf\u001b[39m\u001b[38;5;124m\"\u001b[39m\u001b[38;5;132;01m{\u001b[39;00mnot_found\u001b[38;5;132;01m}\u001b[39;00m\u001b[38;5;124m not in index\u001b[39m\u001b[38;5;124m\"\u001b[39m)\n",
      "\u001b[0;31mKeyError\u001b[0m: \"['EXTERNALITY'] not in index\""
     ]
    }
   ],
   "source": [
    "inData = prunings.algo_RSIE(inData, price_column='EXTERNALITY')  # apply pruning strategies for a given pricing strategy"
   ]
  },
  {
   "cell_type": "code",
   "execution_count": 14,
   "metadata": {},
   "outputs": [
    {
     "data": {
      "text/plain": [
       "7608"
      ]
     },
     "execution_count": 14,
     "metadata": {},
     "output_type": "execute_result"
    }
   ],
   "source": [
    "len(inData.sblts.mutually_exclusives_RSIE)"
   ]
  },
  {
   "cell_type": "code",
   "execution_count": 18,
   "metadata": {},
   "outputs": [],
   "source": [
    "me = inData.sblts.mutually_exclusives_RSIE\n",
    "for pair in me:\n",
    "    if pair[0] in selecteds and pair[1] in selecteds:\n",
    "        print(pair)\n",
    "        G1 = pair[0]\n",
    "        G2 = pair[1]\n",
    "        break\n"
   ]
  },
  {
   "cell_type": "code",
   "execution_count": 63,
   "metadata": {},
   "outputs": [],
   "source": [
    "_print = True\n",
    "price_column = 'EXTERNALITY'\n",
    "rm = inData.sblts.rides_multi_index  # ride (group) - traveller data\n",
    "rides = inData.sblts.rides  # rides data\n",
    "lsuffix = '_x' # suffixes for merges\n",
    "rsuffix = '_y'\n",
    "unstables = list()  # output - used as mutual exclusive constrain in ILP\n",
    "indexes_set = rides.indexes_set # set of travellers for each ride\n",
    "def are_unstable(G1, G2):\n",
    "    # see if two groups are unstable\n",
    "    for i in indexes_set[G1]:  # examine each i in G1\n",
    "        G2s_with_i = G2s.union({i})  # move i to G2\n",
    "        for r in rides[rides.indexes_set == G2s_with_i].index:  # loop over rides where i joining G2\n",
    "            if rm.loc[r, i][price_column] < rm.loc[G1, i][price_column]:  # condition 1 (i want to join G1)\n",
    "                costs_of_G2_with_i = rm.loc[pd.IndexSlice[r, G2s], :][\n",
    "                    ['traveller', price_column]]  # costs for travellers in G2 with i\n",
    "                compare = pd.merge(costs_of_G2, costs_of_G2_with_i, on=['traveller']) # compare prices\n",
    "                compare['surplus'] = compare[price_column + lsuffix] - compare[price_column + rsuffix] # see which is cheaper\n",
    "                if compare.surplus.min() >= 0: # if no one is better off\n",
    "                    if _print: # debugging only\n",
    "                        print('Group1:', G1, G1s)\n",
    "                        print('Group2:', G2, G2s)\n",
    "                        print('Moving traveller:', i)\n",
    "                        print('Group2 with i:', r, G2s_with_i)\n",
    "                        print('Costs for i in G1:', rm.loc[G1, i][price_column])\n",
    "                        print('Costs for i in G2:', rm.loc[r, i][price_column])\n",
    "                        print('Costs for G2 without i \\n ', costs_of_G2[price_column])\n",
    "                        print('Costs for G2 with i \\n ', costs_of_G2_with_i[price_column])\n",
    "                    return True\n",
    "    return False\n",
    "\n",
    "G2s = indexes_set[G2]  # travellers in G2\n",
    "costs_of_G2 = rm.loc[G2, :][['traveller', price_column]]  # costs of group G2 before joining\n",
    "G1s = indexes_set[G1]  # travellers in G1\n",
    "if indexes_set[G1].isdisjoint(indexes_set[G2]):  # if rides are disjoint\n",
    "    are_unstable(G1, G2)"
   ]
  },
  {
   "cell_type": "code",
   "execution_count": 56,
   "metadata": {},
   "outputs": [
    {
     "data": {
      "text/html": [
       "<div>\n",
       "<style scoped>\n",
       "    .dataframe tbody tr th:only-of-type {\n",
       "        vertical-align: middle;\n",
       "    }\n",
       "\n",
       "    .dataframe tbody tr th {\n",
       "        vertical-align: top;\n",
       "    }\n",
       "\n",
       "    .dataframe thead th {\n",
       "        text-align: right;\n",
       "    }\n",
       "</style>\n",
       "<table border=\"1\" class=\"dataframe\">\n",
       "  <thead>\n",
       "    <tr style=\"text-align: right;\">\n",
       "      <th></th>\n",
       "      <th></th>\n",
       "      <th>ttrav_sh</th>\n",
       "      <th>delay</th>\n",
       "      <th>cost_user</th>\n",
       "      <th>EXTERNALITY</th>\n",
       "    </tr>\n",
       "  </thead>\n",
       "  <tbody>\n",
       "    <tr>\n",
       "      <th rowspan=\"3\" valign=\"top\">834</th>\n",
       "      <th>1</th>\n",
       "      <td>755</td>\n",
       "      <td>31.0</td>\n",
       "      <td>2.80525</td>\n",
       "      <td>4.42435</td>\n",
       "    </tr>\n",
       "    <tr>\n",
       "      <th>49</th>\n",
       "      <td>616</td>\n",
       "      <td>-16.0</td>\n",
       "      <td>2.24000</td>\n",
       "      <td>2.25855</td>\n",
       "    </tr>\n",
       "    <tr>\n",
       "      <th>78</th>\n",
       "      <td>680</td>\n",
       "      <td>-25.0</td>\n",
       "      <td>2.51125</td>\n",
       "      <td>3.66695</td>\n",
       "    </tr>\n",
       "  </tbody>\n",
       "</table>\n",
       "</div>"
      ],
      "text/plain": [
       "        ttrav_sh  delay  cost_user  EXTERNALITY\n",
       "834 1        755   31.0    2.80525      4.42435\n",
       "    49       616  -16.0    2.24000      2.25855\n",
       "    78       680  -25.0    2.51125      3.66695"
      ]
     },
     "execution_count": 56,
     "metadata": {},
     "output_type": "execute_result"
    }
   ],
   "source": [
    "rm[rm.ride == 834][['ttrav_sh','delay','cost_user','EXTERNALITY']]"
   ]
  },
  {
   "cell_type": "code",
   "execution_count": 57,
   "metadata": {},
   "outputs": [
    {
     "data": {
      "text/html": [
       "<div>\n",
       "<style scoped>\n",
       "    .dataframe tbody tr th:only-of-type {\n",
       "        vertical-align: middle;\n",
       "    }\n",
       "\n",
       "    .dataframe tbody tr th {\n",
       "        vertical-align: top;\n",
       "    }\n",
       "\n",
       "    .dataframe thead th {\n",
       "        text-align: right;\n",
       "    }\n",
       "</style>\n",
       "<table border=\"1\" class=\"dataframe\">\n",
       "  <thead>\n",
       "    <tr style=\"text-align: right;\">\n",
       "      <th></th>\n",
       "      <th></th>\n",
       "      <th>ttrav_sh</th>\n",
       "      <th>delay</th>\n",
       "      <th>cost_user</th>\n",
       "      <th>EXTERNALITY</th>\n",
       "    </tr>\n",
       "  </thead>\n",
       "  <tbody>\n",
       "    <tr>\n",
       "      <th>29</th>\n",
       "      <th>29</th>\n",
       "      <td>148</td>\n",
       "      <td>0.0</td>\n",
       "      <td>0.518</td>\n",
       "      <td>1.6914</td>\n",
       "    </tr>\n",
       "  </tbody>\n",
       "</table>\n",
       "</div>"
      ],
      "text/plain": [
       "       ttrav_sh  delay  cost_user  EXTERNALITY\n",
       "29 29       148    0.0      0.518       1.6914"
      ]
     },
     "execution_count": 57,
     "metadata": {},
     "output_type": "execute_result"
    }
   ],
   "source": [
    "rm[rm.ride == 29][['ttrav_sh','delay','cost_user','EXTERNALITY']]"
   ]
  },
  {
   "cell_type": "code",
   "execution_count": 62,
   "metadata": {},
   "outputs": [
    {
     "data": {
      "text/html": [
       "<div>\n",
       "<style scoped>\n",
       "    .dataframe tbody tr th:only-of-type {\n",
       "        vertical-align: middle;\n",
       "    }\n",
       "\n",
       "    .dataframe tbody tr th {\n",
       "        vertical-align: top;\n",
       "    }\n",
       "\n",
       "    .dataframe thead th {\n",
       "        text-align: right;\n",
       "    }\n",
       "</style>\n",
       "<table border=\"1\" class=\"dataframe\">\n",
       "  <thead>\n",
       "    <tr style=\"text-align: right;\">\n",
       "      <th></th>\n",
       "      <th></th>\n",
       "      <th>ttrav_sh</th>\n",
       "      <th>delay</th>\n",
       "      <th>cost_user</th>\n",
       "      <th>EXTERNALITY</th>\n",
       "    </tr>\n",
       "  </thead>\n",
       "  <tbody>\n",
       "    <tr>\n",
       "      <th rowspan=\"2\" valign=\"top\">295</th>\n",
       "      <th>29</th>\n",
       "      <td>178</td>\n",
       "      <td>20.5</td>\n",
       "      <td>0.730625</td>\n",
       "      <td>1.26805</td>\n",
       "    </tr>\n",
       "    <tr>\n",
       "      <th>49</th>\n",
       "      <td>521</td>\n",
       "      <td>-5.5</td>\n",
       "      <td>1.852375</td>\n",
       "      <td>4.05335</td>\n",
       "    </tr>\n",
       "  </tbody>\n",
       "</table>\n",
       "</div>"
      ],
      "text/plain": [
       "        ttrav_sh  delay  cost_user  EXTERNALITY\n",
       "295 29       178   20.5   0.730625      1.26805\n",
       "    49       521   -5.5   1.852375      4.05335"
      ]
     },
     "execution_count": 62,
     "metadata": {},
     "output_type": "execute_result"
    }
   ],
   "source": [
    "rm[rm.ride == 295][['ttrav_sh','delay','cost_user','EXTERNALITY']]"
   ]
  },
  {
   "cell_type": "markdown",
   "metadata": {},
   "source": [
    "---\n",
    "(c) Rafał Kucharski, Delft, 2021"
   ]
  }
 ],
 "metadata": {
  "kernelspec": {
   "display_name": "Python 3 (ipykernel)",
   "language": "python",
   "name": "python3"
  },
  "language_info": {
   "codemirror_mode": {
    "name": "ipython",
    "version": 3
   },
   "file_extension": ".py",
   "mimetype": "text/x-python",
   "name": "python",
   "nbconvert_exporter": "python",
   "pygments_lexer": "ipython3",
   "version": "3.8.12"
  }
 },
 "nbformat": 4,
 "nbformat_minor": 4
}
