{
 "cells": [
  {
   "cell_type": "markdown",
   "metadata": {},
   "source": [
    "## ExMAS\n",
    "> Equilibrium matching\n"
   ]
  },
  {
   "cell_type": "code",
   "execution_count": 1,
   "metadata": {},
   "outputs": [],
   "source": [
    "import os\n",
    "import math\n",
    "import netwulf as nw\n",
    "import seaborn as sns\n",
    "import numpy as np\n",
    "import pandas as pd\n",
    "import matplotlib.pyplot as plt\n",
    "cwd = os.getcwd()\n",
    "%load_ext autoreload\n",
    "%autoreload 2"
   ]
  },
  {
   "cell_type": "code",
   "execution_count": 2,
   "metadata": {},
   "outputs": [],
   "source": [
    "from IPython.display import display\n",
    "pd.options.display.max_columns = None"
   ]
  },
  {
   "cell_type": "code",
   "execution_count": 3,
   "metadata": {},
   "outputs": [],
   "source": [
    "os.chdir(os.path.join(cwd,'../../..'))\n",
    "import ExMAS.main\n",
    "import ExMAS.utils\n",
    "from ExMAS.utils import inData as inData\n",
    "from ExMAS.main import matching\n",
    "from ExMAS.extras import games, pricings, prunings, pipeline"
   ]
  },
  {
   "cell_type": "code",
   "execution_count": 4,
   "metadata": {},
   "outputs": [],
   "source": [
    "netwulf_config_path = os.path.join(os.getcwd(),'spinoff/game/netwulf_config.json')"
   ]
  },
  {
   "cell_type": "code",
   "execution_count": 5,
   "metadata": {},
   "outputs": [],
   "source": [
    "params = ExMAS.utils.get_config('ExMAS/spinoffs/game/ams.json') # load the default \n",
    "params.t0 = pd.to_datetime(params.t0)\n",
    "params.matching_obj = 'u_pax'\n",
    "inData = ExMAS.utils.load_G(inData, params, stats=True)  # download the graph\n",
    "params.max_detour = 120  # windows\n",
    "params.max_delay = 120  # windows\n",
    "params.nP = 100\n",
    "params.simTime = 0.25\n",
    "params.shared_discount = 0.25\n",
    "inData = ExMAS.utils.generate_demand(inData, params)  # generate requests"
   ]
  },
  {
   "cell_type": "code",
   "execution_count": 6,
   "metadata": {},
   "outputs": [],
   "source": [
    "inData = ExMAS.main(inData, params, plot = False)"
   ]
  },
  {
   "cell_type": "code",
   "execution_count": 8,
   "metadata": {},
   "outputs": [
    {
     "name": "stdout",
     "output_type": "stream",
     "text": [
      "05-02-21 11:12:00-WARNING-Prepare for game:  1/6\n",
      "05-02-21 11:12:00-WARNING-Prepare for game:  2/6\n",
      "05-02-21 11:12:00-WARNING-Prepare for game:  3/6\n",
      "05-02-21 11:12:01-WARNING-Prepare for game:  4/6\n",
      "05-02-21 11:12:09-WARNING-Prepare for game:  5/6\n",
      "05-02-21 11:12:09-WARNING-Prepare for game:  6/6\n"
     ]
    }
   ],
   "source": [
    "KPIs = inData.sblts.res.to_frame('u_pax')\n",
    "inData = games.prepare_PoA(inData)  # prepare data structures"
   ]
  },
  {
   "cell_type": "markdown",
   "metadata": {},
   "source": [
    "### pricing\n",
    "\n",
    "eq. 1 , eq.2"
   ]
  },
  {
   "cell_type": "code",
   "execution_count": 8,
   "metadata": {},
   "outputs": [],
   "source": [
    "\n",
    "params.time_cost = params.VoT # travellers' cost per travel time\n",
    "params.wait_cost = params.time_cost*1.5 # and waiting\n",
    "params.sharing_penalty_fixed = 0 # fixed penalty (EUR) per \n",
    "params.sharing_penalty_multiplier = 0 # fixed penalty (EUR) per \n",
    "\n",
    "params.veh_cost = 1.3*params.VoT/params.avg_speed # operating costs per kilometer\n",
    "params.fixed_ride_cost = 0.5 # ride fixed costs (per vehicle)"
   ]
  },
  {
   "cell_type": "code",
   "execution_count": 9,
   "metadata": {},
   "outputs": [],
   "source": [
    "inData.results.rides = inData.sblts.rides.copy()  # copy tables to collect results\n",
    "inData.results.rm = inData.sblts.rides_multi_index.copy()\n",
    "inData.results.KPIs = dict()"
   ]
  },
  {
   "cell_type": "code",
   "execution_count": 10,
   "metadata": {},
   "outputs": [
    {
     "name": "stdout",
     "output_type": "stream",
     "text": [
      "04-02-21 14:24:34-WARNING-Prepare for game:  1/6\n",
      "04-02-21 14:24:34-WARNING-Prepare for game:  2/6\n",
      "04-02-21 14:24:34-WARNING-Prepare for game:  3/6\n",
      "04-02-21 14:24:35-WARNING-Prepare for game:  4/6\n",
      "04-02-21 14:24:43-WARNING-Prepare for game:  5/6\n",
      "04-02-21 14:24:43-WARNING-Prepare for game:  6/6\n"
     ]
    }
   ],
   "source": [
    "inData = games.prepare_PoA(inData)\n",
    "inData = ExMAS.extras.pricings.update_costs(inData, params)\n",
    "inData = pricings.externality_split(inData) \n",
    "inData = pricings.uniform_split(inData) \n",
    "inData = pricings.externality_split(inData) \n",
    "inData = pricings.residual_split(inData) \n",
    "inData = pricings.subgroup_split_bas(inData) "
   ]
  },
  {
   "cell_type": "code",
   "execution_count": 11,
   "metadata": {},
   "outputs": [],
   "source": [
    "ALGOS=dict() # algorithms to apply and their names\n",
    "ALGOS['TNE'] = prunings.algo_TNE\n",
    "ALGOS['HERMETIC'] = prunings.algo_HERMETIC\n",
    "ALGOS['RUE'] = prunings.algo_RUE\n",
    "ALGOS['RSIE'] = prunings.algo_RSIE\n",
    "#ALGOS['TSE'] = prunings.algo_TSE"
   ]
  },
  {
   "cell_type": "code",
   "execution_count": 12,
   "metadata": {},
   "outputs": [
    {
     "name": "stdout",
     "output_type": "stream",
     "text": [
      "TNE\n",
      "HERMETIC\n",
      "RUE\n",
      "RSIE\n",
      "04-02-21 14:25:00-WARNING-Searching unstable pairs 0/449. 0 found so far\n",
      "04-02-21 14:25:13-WARNING-Searching unstable pairs 20/449. 328 found so far\n",
      "04-02-21 14:25:27-WARNING-Searching unstable pairs 40/449. 716 found so far\n",
      "04-02-21 14:25:40-WARNING-Searching unstable pairs 60/449. 923 found so far\n",
      "04-02-21 14:25:55-WARNING-Searching unstable pairs 80/449. 1061 found so far\n",
      "04-02-21 14:26:09-WARNING-Searching unstable pairs 100/449. 1123 found so far\n",
      "04-02-21 14:26:20-WARNING-Searching unstable pairs 120/449. 1127 found so far\n",
      "04-02-21 14:26:30-WARNING-Searching unstable pairs 140/449. 1133 found so far\n",
      "04-02-21 14:26:42-WARNING-Searching unstable pairs 160/449. 1133 found so far\n",
      "04-02-21 14:26:53-WARNING-Searching unstable pairs 180/449. 1144 found so far\n",
      "04-02-21 14:27:03-WARNING-Searching unstable pairs 200/449. 1165 found so far\n",
      "04-02-21 14:27:15-WARNING-Searching unstable pairs 220/449. 1190 found so far\n",
      "04-02-21 14:27:25-WARNING-Searching unstable pairs 240/449. 1230 found so far\n",
      "04-02-21 14:27:35-WARNING-Searching unstable pairs 260/449. 1237 found so far\n",
      "04-02-21 14:27:45-WARNING-Searching unstable pairs 280/449. 1244 found so far\n",
      "04-02-21 14:27:55-WARNING-Searching unstable pairs 300/449. 1246 found so far\n",
      "04-02-21 14:28:05-WARNING-Searching unstable pairs 320/449. 1252 found so far\n",
      "04-02-21 14:28:17-WARNING-Searching unstable pairs 340/449. 1278 found so far\n",
      "04-02-21 14:28:27-WARNING-Searching unstable pairs 360/449. 1307 found so far\n",
      "04-02-21 14:28:39-WARNING-Searching unstable pairs 380/449. 1326 found so far\n",
      "04-02-21 14:28:51-WARNING-Searching unstable pairs 400/449. 1347 found so far\n",
      "04-02-21 14:29:02-WARNING-Searching unstable pairs 420/449. 1347 found so far\n",
      "04-02-21 14:29:13-WARNING-Searching unstable pairs 440/449. 1351 found so far\n"
     ]
    }
   ],
   "source": [
    "for ALGO, algorithm in ALGOS.items():\n",
    "    print(ALGO)\n",
    "    inData = algorithm(inData, price_column='UNIFORM')  # apply pruning strategies for a given pricing strategy"
   ]
  },
  {
   "cell_type": "code",
   "execution_count": 13,
   "metadata": {},
   "outputs": [
    {
     "name": "stdout",
     "output_type": "stream",
     "text": [
      "04-02-21 14:29:17-WARNING-Prunings:  ['TNE']\n",
      "04-02-21 14:29:17-WARNING-Pruned nRides 149/449\n",
      "04-02-21 14:29:17-WARNING-Mutually exclusives 0\n",
      "04-02-21 14:29:17-WARNING-Scenario-many_Pricing-UNIFORM_Objective-['total_group_cost']_Pruning-['TNE']_minmax-min\n",
      "04-02-21 14:29:18-WARNING-Scenario-many_Pricing-UNIFORM_Objective-['total_group_cost']_Pruning-['TNE']_minmax-max\n",
      "04-02-21 14:29:19-WARNING-Prunings:  ['HERMETIC']\n",
      "04-02-21 14:29:19-WARNING-Pruned nRides 132/449\n",
      "04-02-21 14:29:19-WARNING-Mutually exclusives 0\n",
      "04-02-21 14:29:19-WARNING-Scenario-many_Pricing-UNIFORM_Objective-['total_group_cost']_Pruning-['HERMETIC']_minmax-min\n",
      "04-02-21 14:29:20-WARNING-Scenario-many_Pricing-UNIFORM_Objective-['total_group_cost']_Pruning-['HERMETIC']_minmax-max\n",
      "04-02-21 14:29:20-WARNING-Prunings:  ['RUE']\n",
      "04-02-21 14:29:20-WARNING-Pruned nRides 449/449\n",
      "04-02-21 14:29:20-WARNING-Mutually exclusives 74\n",
      "04-02-21 14:29:20-WARNING-Scenario-many_Pricing-UNIFORM_Objective-['total_group_cost']_Pruning-['RUE']_minmax-min\n",
      "04-02-21 14:29:21-WARNING-Scenario-many_Pricing-UNIFORM_Objective-['total_group_cost']_Pruning-['RUE']_minmax-max\n",
      "04-02-21 14:29:22-WARNING-Prunings:  ['RSIE']\n",
      "04-02-21 14:29:22-WARNING-Pruned nRides 449/449\n",
      "04-02-21 14:29:22-WARNING-Mutually exclusives 1351\n",
      "04-02-21 14:29:22-WARNING-Scenario-many_Pricing-UNIFORM_Objective-['total_group_cost']_Pruning-['RSIE']_minmax-min\n",
      "04-02-21 14:29:24-WARNING-Scenario-many_Pricing-UNIFORM_Objective-['total_group_cost']_Pruning-['RSIE']_minmax-max\n"
     ]
    }
   ],
   "source": [
    "for ALGO, algorithm in ALGOS.items():  # perform assignment for single prunings\n",
    "    inData = pipeline.single_eval(inData, params,\n",
    "                         MATCHING_OBJS = ['total_group_cost'],  # this can be more\n",
    "                         PRUNINGS = [ALGO],  # and this can be more\n",
    "                         PRICING = 'UNIFORM',  # this is taken from first level loop\n",
    "                         minmax = ('min','max'))  # direction BPoA, WPoA"
   ]
  },
  {
   "cell_type": "code",
   "execution_count": 40,
   "metadata": {},
   "outputs": [],
   "source": [
    "rm = inData.sblts.rides_multi_index\n",
    "for PRICING in ['UNIFORM','EXTERNALITY','RESIDUAL','SUBGROUP']:\n",
    "    rm['best_{}'.format(PRICING)]=rm.apply(lambda r: rm[rm.traveller == r.traveller].cost_user.min(),axis = 1)"
   ]
  },
  {
   "cell_type": "code",
   "execution_count": 1,
   "metadata": {},
   "outputs": [
    {
     "ename": "NameError",
     "evalue": "name 'rm' is not defined",
     "output_type": "error",
     "traceback": [
      "\u001b[0;31m---------------------------------------------------------------------------\u001b[0m",
      "\u001b[0;31mNameError\u001b[0m                                 Traceback (most recent call last)",
      "\u001b[0;32m<ipython-input-1-72ff47fef9df>\u001b[0m in \u001b[0;36m<module>\u001b[0;34m\u001b[0m\n\u001b[0;32m----> 1\u001b[0;31m \u001b[0mrm\u001b[0m\u001b[0;34m.\u001b[0m\u001b[0mcolumns\u001b[0m\u001b[0;34m\u001b[0m\u001b[0;34m\u001b[0m\u001b[0m\n\u001b[0m",
      "\u001b[0;31mNameError\u001b[0m: name 'rm' is not defined"
     ]
    }
   ],
   "source": [
    "rm.columns"
   ]
  },
  {
   "cell_type": "code",
   "execution_count": 14,
   "metadata": {},
   "outputs": [],
   "source": [
    "#inData = pipeline.single_eval_windows(inData, params, None, 'EXMAS', 'WINDOWS')"
   ]
  },
  {
   "cell_type": "code",
   "execution_count": 15,
   "metadata": {},
   "outputs": [
    {
     "name": "stdout",
     "output_type": "stream",
     "text": [
      "TNE\n"
     ]
    },
    {
     "ename": "KeyError",
     "evalue": "\"UNIFORM-['total_group_cost']-['TNE']-total_group_cost-min\"",
     "output_type": "error",
     "traceback": [
      "\u001b[0;31m---------------------------------------------------------------------------\u001b[0m",
      "\u001b[0;31mKeyError\u001b[0m                                  Traceback (most recent call last)",
      "\u001b[0;32m~/anaconda3/envs/maassim/lib/python3.7/site-packages/pandas/core/indexes/base.py\u001b[0m in \u001b[0;36mget_loc\u001b[0;34m(self, key, method, tolerance)\u001b[0m\n\u001b[1;32m   2645\u001b[0m             \u001b[0;32mtry\u001b[0m\u001b[0;34m:\u001b[0m\u001b[0;34m\u001b[0m\u001b[0;34m\u001b[0m\u001b[0m\n\u001b[0;32m-> 2646\u001b[0;31m                 \u001b[0;32mreturn\u001b[0m \u001b[0mself\u001b[0m\u001b[0;34m.\u001b[0m\u001b[0m_engine\u001b[0m\u001b[0;34m.\u001b[0m\u001b[0mget_loc\u001b[0m\u001b[0;34m(\u001b[0m\u001b[0mkey\u001b[0m\u001b[0;34m)\u001b[0m\u001b[0;34m\u001b[0m\u001b[0;34m\u001b[0m\u001b[0m\n\u001b[0m\u001b[1;32m   2647\u001b[0m             \u001b[0;32mexcept\u001b[0m \u001b[0mKeyError\u001b[0m\u001b[0;34m:\u001b[0m\u001b[0;34m\u001b[0m\u001b[0;34m\u001b[0m\u001b[0m\n",
      "\u001b[0;32mpandas/_libs/index.pyx\u001b[0m in \u001b[0;36mpandas._libs.index.IndexEngine.get_loc\u001b[0;34m()\u001b[0m\n",
      "\u001b[0;32mpandas/_libs/index.pyx\u001b[0m in \u001b[0;36mpandas._libs.index.IndexEngine.get_loc\u001b[0;34m()\u001b[0m\n",
      "\u001b[0;32mpandas/_libs/hashtable_class_helper.pxi\u001b[0m in \u001b[0;36mpandas._libs.hashtable.PyObjectHashTable.get_item\u001b[0;34m()\u001b[0m\n",
      "\u001b[0;32mpandas/_libs/hashtable_class_helper.pxi\u001b[0m in \u001b[0;36mpandas._libs.hashtable.PyObjectHashTable.get_item\u001b[0;34m()\u001b[0m\n",
      "\u001b[0;31mKeyError\u001b[0m: \"UNIFORM-['total_group_cost']-['TNE']-total_group_cost-min\"",
      "\nDuring handling of the above exception, another exception occurred:\n",
      "\u001b[0;31mKeyError\u001b[0m                                  Traceback (most recent call last)",
      "\u001b[0;32m<ipython-input-15-d5ad5f08a03f>\u001b[0m in \u001b[0;36m<module>\u001b[0;34m\u001b[0m\n\u001b[1;32m     13\u001b[0m     \u001b[0mf\u001b[0m\u001b[0;34m,\u001b[0m \u001b[0m_\u001b[0m \u001b[0;34m=\u001b[0m \u001b[0mnw\u001b[0m\u001b[0;34m.\u001b[0m\u001b[0mvisualize\u001b[0m\u001b[0;34m(\u001b[0m\u001b[0mG\u001b[0m\u001b[0;34m,\u001b[0m \u001b[0mconfig\u001b[0m \u001b[0;34m=\u001b[0m \u001b[0mconfig_schedule\u001b[0m\u001b[0;34m,\u001b[0m  \u001b[0mplot_in_cell_below\u001b[0m\u001b[0;34m=\u001b[0m\u001b[0;32mFalse\u001b[0m\u001b[0;34m)\u001b[0m\u001b[0;34m\u001b[0m\u001b[0;34m\u001b[0m\u001b[0m\n\u001b[1;32m     14\u001b[0m     \u001b[0m_\u001b[0m\u001b[0;34m,\u001b[0m \u001b[0m_\u001b[0m \u001b[0;34m=\u001b[0m \u001b[0mnw\u001b[0m\u001b[0;34m.\u001b[0m\u001b[0mdraw_netwulf\u001b[0m\u001b[0;34m(\u001b[0m\u001b[0mf\u001b[0m\u001b[0;34m,\u001b[0m \u001b[0mfig\u001b[0m \u001b[0;34m=\u001b[0m \u001b[0mfig\u001b[0m\u001b[0;34m,\u001b[0m \u001b[0max\u001b[0m \u001b[0;34m=\u001b[0m \u001b[0maxes\u001b[0m\u001b[0;34m[\u001b[0m\u001b[0;36m0\u001b[0m\u001b[0;34m]\u001b[0m\u001b[0;34m[\u001b[0m\u001b[0mi\u001b[0m\u001b[0;34m]\u001b[0m\u001b[0;34m)\u001b[0m\u001b[0;34m\u001b[0m\u001b[0;34m\u001b[0m\u001b[0m\n\u001b[0;32m---> 15\u001b[0;31m     \u001b[0mthis_schedule\u001b[0m \u001b[0;34m=\u001b[0m \u001b[0mr\u001b[0m\u001b[0;34m[\u001b[0m\u001b[0mr\u001b[0m\u001b[0;34m[\u001b[0m\u001b[0;34m\"UNIFORM-['total_group_cost']-['{}']-total_group_cost-min\"\u001b[0m\u001b[0;34m.\u001b[0m\u001b[0mformat\u001b[0m\u001b[0;34m(\u001b[0m\u001b[0mALGO\u001b[0m\u001b[0;34m)\u001b[0m\u001b[0;34m]\u001b[0m\u001b[0;34m==\u001b[0m\u001b[0;32mTrue\u001b[0m\u001b[0;34m]\u001b[0m\u001b[0;34m\u001b[0m\u001b[0;34m\u001b[0m\u001b[0m\n\u001b[0m\u001b[1;32m     16\u001b[0m     \u001b[0mG\u001b[0m \u001b[0;34m=\u001b[0m \u001b[0mExMAS\u001b[0m\u001b[0;34m.\u001b[0m\u001b[0mutils\u001b[0m\u001b[0;34m.\u001b[0m\u001b[0mmake_shareability_graph\u001b[0m\u001b[0;34m(\u001b[0m\u001b[0minData\u001b[0m\u001b[0;34m.\u001b[0m\u001b[0msblts\u001b[0m\u001b[0;34m.\u001b[0m\u001b[0mrequests\u001b[0m\u001b[0;34m,\u001b[0m \u001b[0mthis_schedule\u001b[0m\u001b[0;34m)\u001b[0m\u001b[0;34m\u001b[0m\u001b[0;34m\u001b[0m\u001b[0m\n\u001b[1;32m     17\u001b[0m     \u001b[0mf\u001b[0m\u001b[0;34m,\u001b[0m \u001b[0m_\u001b[0m \u001b[0;34m=\u001b[0m \u001b[0mnw\u001b[0m\u001b[0;34m.\u001b[0m\u001b[0mvisualize\u001b[0m\u001b[0;34m(\u001b[0m\u001b[0mG\u001b[0m\u001b[0;34m,\u001b[0m \u001b[0mconfig\u001b[0m \u001b[0;34m=\u001b[0m \u001b[0mconfig_schedule\u001b[0m\u001b[0;34m,\u001b[0m  \u001b[0mplot_in_cell_below\u001b[0m\u001b[0;34m=\u001b[0m\u001b[0;32mFalse\u001b[0m\u001b[0;34m)\u001b[0m\u001b[0;34m\u001b[0m\u001b[0;34m\u001b[0m\u001b[0m\n",
      "\u001b[0;32m~/anaconda3/envs/maassim/lib/python3.7/site-packages/pandas/core/frame.py\u001b[0m in \u001b[0;36m__getitem__\u001b[0;34m(self, key)\u001b[0m\n\u001b[1;32m   2798\u001b[0m             \u001b[0;32mif\u001b[0m \u001b[0mself\u001b[0m\u001b[0;34m.\u001b[0m\u001b[0mcolumns\u001b[0m\u001b[0;34m.\u001b[0m\u001b[0mnlevels\u001b[0m \u001b[0;34m>\u001b[0m \u001b[0;36m1\u001b[0m\u001b[0;34m:\u001b[0m\u001b[0;34m\u001b[0m\u001b[0;34m\u001b[0m\u001b[0m\n\u001b[1;32m   2799\u001b[0m                 \u001b[0;32mreturn\u001b[0m \u001b[0mself\u001b[0m\u001b[0;34m.\u001b[0m\u001b[0m_getitem_multilevel\u001b[0m\u001b[0;34m(\u001b[0m\u001b[0mkey\u001b[0m\u001b[0;34m)\u001b[0m\u001b[0;34m\u001b[0m\u001b[0;34m\u001b[0m\u001b[0m\n\u001b[0;32m-> 2800\u001b[0;31m             \u001b[0mindexer\u001b[0m \u001b[0;34m=\u001b[0m \u001b[0mself\u001b[0m\u001b[0;34m.\u001b[0m\u001b[0mcolumns\u001b[0m\u001b[0;34m.\u001b[0m\u001b[0mget_loc\u001b[0m\u001b[0;34m(\u001b[0m\u001b[0mkey\u001b[0m\u001b[0;34m)\u001b[0m\u001b[0;34m\u001b[0m\u001b[0;34m\u001b[0m\u001b[0m\n\u001b[0m\u001b[1;32m   2801\u001b[0m             \u001b[0;32mif\u001b[0m \u001b[0mis_integer\u001b[0m\u001b[0;34m(\u001b[0m\u001b[0mindexer\u001b[0m\u001b[0;34m)\u001b[0m\u001b[0;34m:\u001b[0m\u001b[0;34m\u001b[0m\u001b[0;34m\u001b[0m\u001b[0m\n\u001b[1;32m   2802\u001b[0m                 \u001b[0mindexer\u001b[0m \u001b[0;34m=\u001b[0m \u001b[0;34m[\u001b[0m\u001b[0mindexer\u001b[0m\u001b[0;34m]\u001b[0m\u001b[0;34m\u001b[0m\u001b[0;34m\u001b[0m\u001b[0m\n",
      "\u001b[0;32m~/anaconda3/envs/maassim/lib/python3.7/site-packages/pandas/core/indexes/base.py\u001b[0m in \u001b[0;36mget_loc\u001b[0;34m(self, key, method, tolerance)\u001b[0m\n\u001b[1;32m   2646\u001b[0m                 \u001b[0;32mreturn\u001b[0m \u001b[0mself\u001b[0m\u001b[0;34m.\u001b[0m\u001b[0m_engine\u001b[0m\u001b[0;34m.\u001b[0m\u001b[0mget_loc\u001b[0m\u001b[0;34m(\u001b[0m\u001b[0mkey\u001b[0m\u001b[0;34m)\u001b[0m\u001b[0;34m\u001b[0m\u001b[0;34m\u001b[0m\u001b[0m\n\u001b[1;32m   2647\u001b[0m             \u001b[0;32mexcept\u001b[0m \u001b[0mKeyError\u001b[0m\u001b[0;34m:\u001b[0m\u001b[0;34m\u001b[0m\u001b[0;34m\u001b[0m\u001b[0m\n\u001b[0;32m-> 2648\u001b[0;31m                 \u001b[0;32mreturn\u001b[0m \u001b[0mself\u001b[0m\u001b[0;34m.\u001b[0m\u001b[0m_engine\u001b[0m\u001b[0;34m.\u001b[0m\u001b[0mget_loc\u001b[0m\u001b[0;34m(\u001b[0m\u001b[0mself\u001b[0m\u001b[0;34m.\u001b[0m\u001b[0m_maybe_cast_indexer\u001b[0m\u001b[0;34m(\u001b[0m\u001b[0mkey\u001b[0m\u001b[0;34m)\u001b[0m\u001b[0;34m)\u001b[0m\u001b[0;34m\u001b[0m\u001b[0;34m\u001b[0m\u001b[0m\n\u001b[0m\u001b[1;32m   2649\u001b[0m         \u001b[0mindexer\u001b[0m \u001b[0;34m=\u001b[0m \u001b[0mself\u001b[0m\u001b[0;34m.\u001b[0m\u001b[0mget_indexer\u001b[0m\u001b[0;34m(\u001b[0m\u001b[0;34m[\u001b[0m\u001b[0mkey\u001b[0m\u001b[0;34m]\u001b[0m\u001b[0;34m,\u001b[0m \u001b[0mmethod\u001b[0m\u001b[0;34m=\u001b[0m\u001b[0mmethod\u001b[0m\u001b[0;34m,\u001b[0m \u001b[0mtolerance\u001b[0m\u001b[0;34m=\u001b[0m\u001b[0mtolerance\u001b[0m\u001b[0;34m)\u001b[0m\u001b[0;34m\u001b[0m\u001b[0;34m\u001b[0m\u001b[0m\n\u001b[1;32m   2650\u001b[0m         \u001b[0;32mif\u001b[0m \u001b[0mindexer\u001b[0m\u001b[0;34m.\u001b[0m\u001b[0mndim\u001b[0m \u001b[0;34m>\u001b[0m \u001b[0;36m1\u001b[0m \u001b[0;32mor\u001b[0m \u001b[0mindexer\u001b[0m\u001b[0;34m.\u001b[0m\u001b[0msize\u001b[0m \u001b[0;34m>\u001b[0m \u001b[0;36m1\u001b[0m\u001b[0;34m:\u001b[0m\u001b[0;34m\u001b[0m\u001b[0;34m\u001b[0m\u001b[0m\n",
      "\u001b[0;32mpandas/_libs/index.pyx\u001b[0m in \u001b[0;36mpandas._libs.index.IndexEngine.get_loc\u001b[0;34m()\u001b[0m\n",
      "\u001b[0;32mpandas/_libs/index.pyx\u001b[0m in \u001b[0;36mpandas._libs.index.IndexEngine.get_loc\u001b[0;34m()\u001b[0m\n",
      "\u001b[0;32mpandas/_libs/hashtable_class_helper.pxi\u001b[0m in \u001b[0;36mpandas._libs.hashtable.PyObjectHashTable.get_item\u001b[0;34m()\u001b[0m\n",
      "\u001b[0;32mpandas/_libs/hashtable_class_helper.pxi\u001b[0m in \u001b[0;36mpandas._libs.hashtable.PyObjectHashTable.get_item\u001b[0;34m()\u001b[0m\n",
      "\u001b[0;31mKeyError\u001b[0m: \"UNIFORM-['total_group_cost']-['TNE']-total_group_cost-min\""
     ]
    },
    {
     "data": {
      "image/png": "[encoded data removed]",
      "text/plain": [
       "<Figure size 720x2880 with 8 Axes>"
      ]
     },
     "metadata": {
      "needs_background": "light"
     },
     "output_type": "display_data"
    }
   ],
   "source": [
    "r = inData.results.rides\n",
    "_, config, _ = nw.load(\"netwulf_config.json\") # load config\n",
    "_, config_schedule, _ = nw.load(\"netwulf_config_schedule.json\") # load config\n",
    "fig, axes = plt.subplots(2,4, figsize = (10,40))\n",
    "i=0\n",
    "for ALGO, algorithm in ALGOS.items():  # perform assignment for single prunings\n",
    "    print(ALGO)\n",
    "    if \"pruned_{}\".format(ALGO) in r.columns:\n",
    "        this_rides = r[r[\"pruned_{}\".format(ALGO)]==True]\n",
    "    else:\n",
    "        this_rides = r\n",
    "    G = ExMAS.utils.make_shareability_graph(inData.sblts.requests, this_rides)\n",
    "    f, _ = nw.visualize(G, config = config_schedule,  plot_in_cell_below=False)\n",
    "    _, _ = nw.draw_netwulf(f, fig = fig, ax = axes[0][i])\n",
    "    this_schedule = r[r[\"UNIFORM-['total_group_cost']-['{}']-total_group_cost-min\".format(ALGO)]==True]\n",
    "    G = ExMAS.utils.make_shareability_graph(inData.sblts.requests, this_schedule)\n",
    "    f, _ = nw.visualize(G, config = config_schedule,  plot_in_cell_below=False)\n",
    "    _, _ = nw.draw_netwulf(f, fig = fig, ax = axes[1][i])\n",
    "    i+=1\n",
    "    "
   ]
  },
  {
   "cell_type": "markdown",
   "metadata": {},
   "source": [
    "### ExMAS \n",
    "\n",
    "\n",
    "two graphs for each algorithm: \n",
    "* first shareability potential groups\n",
    "* then assignment, ILP solution for BPoA\n",
    "\n",
    "nodes are travellers, links if they form a group, size is the degree (number of rides in which you may participate)"
   ]
  },
  {
   "cell_type": "code",
   "execution_count": null,
   "metadata": {},
   "outputs": [],
   "source": [
    "G = ExMAS.utils.make_shareability_graph(inData.sblts.requests, inData.sblts.schedule)\n",
    "stylized_network, config_schedule = nw.visualize(G, config = config_schedule)  # create config\n",
    "#nw.save(\"netwulf_config_schedule.json\", stylized_network, config_schedule) # save config\n",
    "#_, _ = nw.visualize(G, config = config_schedule)"
   ]
  },
  {
   "cell_type": "markdown",
   "metadata": {},
   "source": [
    "### TNE \n"
   ]
  },
  {
   "cell_type": "code",
   "execution_count": null,
   "metadata": {},
   "outputs": [],
   "source": [
    "params.multi_platform_matching = True\n",
    "params.assign_ride_platforms = False\n",
    "inData = prunings.algo_TNE(inData, price_column='UNIFORM')  # apply pruning strategies for a given pricing strategy\n",
    "inData = pipeline.single_eval(inData, params,\n",
    "                     MATCHING_OBJS = ['UNIFORM'],  # this can be more\n",
    "                     PRUNINGS = ['TNE'],  # and this can be more\n",
    "                     PRICING = 'UNIFORM',  # this is taken from first level loop\n",
    "                     minmax = ['min'], store_res = False)  # direction BPoA, WPoA\n",
    "G = ExMAS.utils.make_shareability_graph(inData.sblts.requests, inData.sblts.rides[inData.sblts.rides.pruned])\n",
    "_, _ = nw.visualize(G, config = config)"
   ]
  },
  {
   "cell_type": "code",
   "execution_count": null,
   "metadata": {},
   "outputs": [],
   "source": [
    "G = ExMAS.utils.make_shareability_graph(inData.sblts.requests, inData.sblts.schedule)\n",
    "_, _ = nw.visualize(G, config = config_schedule)"
   ]
  },
  {
   "cell_type": "code",
   "execution_count": null,
   "metadata": {},
   "outputs": [],
   "source": [
    "params.multi_platform_matching = True\n",
    "params.assign_ride_platforms = False\n",
    "inData = prunings.algo_HERMETIC(inData, price_column='UNIFORM')  # apply pruning strategies for a given pricing strategy\n",
    "inData = pipeline.single_eval(inData, params,\n",
    "                     MATCHING_OBJS = ['UNIFORM'],  # this can be more\n",
    "                     PRUNINGS = ['HERMETIC'],  # and this can be more\n",
    "                     PRICING = 'UNIFORM',  # this is taken from first level loop\n",
    "                     minmax = ['min'], store_res = False)  # direction BPoA, WPoA\n",
    "G = ExMAS.utils.make_shareability_graph(inData.sblts.requests, inData.sblts.rides[inData.sblts.rides.pruned])\n",
    "_, _ = nw.visualize(G, config = config)"
   ]
  },
  {
   "cell_type": "code",
   "execution_count": null,
   "metadata": {},
   "outputs": [],
   "source": [
    "G = ExMAS.utils.make_shareability_graph(inData.sblts.requests, inData.sblts.schedule)\n",
    "_, _ = nw.visualize(G, config = config_schedule)"
   ]
  },
  {
   "cell_type": "markdown",
   "metadata": {},
   "source": [
    "---\n",
    "(c) Rafał Kucharski, Delft, 2020"
   ]
  }
 ],
 "metadata": {
  "kernelspec": {
   "display_name": "Python 3",
   "language": "python",
   "name": "python3"
  },
  "language_info": {
   "codemirror_mode": {
    "name": "ipython",
    "version": 3
   },
   "file_extension": ".py",
   "mimetype": "text/x-python",
   "name": "python",
   "nbconvert_exporter": "python",
   "pygments_lexer": "ipython3",
   "version": "3.7.6"
  }
 },
 "nbformat": 4,
 "nbformat_minor": 4
}
