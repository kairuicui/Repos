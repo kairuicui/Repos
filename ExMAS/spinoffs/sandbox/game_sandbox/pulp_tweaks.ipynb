{
 "cells": [
  {
   "cell_type": "markdown",
   "metadata": {},
   "source": [
    "## ExMAS\n",
    "> Equilibrium matching - expieriments for the paper\n",
    "\n",
    "---\n",
    "# ILP for various Objective functions\n",
    "\n",
    "* how can we minimize PoA with ILP"
   ]
  },
  {
   "cell_type": "code",
   "execution_count": 10,
   "metadata": {},
   "outputs": [],
   "source": [
    "import os\n",
    "import math\n",
    "import seaborn as sns\n",
    "import numpy as np\n",
    "import pandas as pd\n",
    "import matplotlib.pyplot as plt\n",
    "import pulp\n",
    "cwd = os.getcwd()\n",
    "%load_ext autoreload\n",
    "%autoreload 2"
   ]
  },
  {
   "cell_type": "code",
   "execution_count": 11,
   "metadata": {},
   "outputs": [],
   "source": [
    "from IPython.display import display\n",
    "pd.options.display.max_columns = None"
   ]
  },
  {
   "cell_type": "code",
   "execution_count": 141,
   "metadata": {},
   "outputs": [],
   "source": [
    "os.chdir(os.path.join(cwd,'../../..'))\n",
    "import ExMAS.main\n",
    "import ExMAS.utils\n",
    "import ExMAS.games\n",
    "from ExMAS.utils import inData as inData\n",
    "from ExMAS.main import matching"
   ]
  },
  {
   "cell_type": "code",
   "execution_count": 104,
   "metadata": {},
   "outputs": [],
   "source": [
    "params = ExMAS.utils.get_config('ExMAS/spinoffs/game/game_toy.json') # load the default \n",
    "params.t0 = pd.to_datetime(params.t0)\n",
    "params.matching_obj = 'u_pax'\n",
    "inData = ExMAS.utils.load_G(inData, params, stats=True)  # download the graph\n",
    "inData.requests = ExMAS.utils.load_requests('ExMAS/spinoffs/game/toy.csv')"
   ]
  },
  {
   "cell_type": "code",
   "execution_count": 105,
   "metadata": {},
   "outputs": [],
   "source": [
    "params.shared_discount = 0.5\n",
    "params.logger_level = \"CRITICAL\"\n",
    "inData = ExMAS.main(inData, params)\n",
    "inData = ExMAS.games.prepare_PoA(inData)"
   ]
  },
  {
   "cell_type": "code",
   "execution_count": 122,
   "metadata": {},
   "outputs": [
    {
     "data": {
      "text/plain": [
       "[3, 2, 1, 4]"
      ]
     },
     "execution_count": 122,
     "metadata": {},
     "output_type": "execute_result"
    }
   ],
   "source": [
    "import random\n",
    "l = [1,2,3,4]\n",
    "random.shuffle(l)\n",
    "l"
   ]
  },
  {
   "cell_type": "code",
   "execution_count": 15,
   "metadata": {},
   "outputs": [],
   "source": [
    "OBJS = ['u_pax', 'u_veh','mean_ranking', 'mean_rel_ranking', 'mean_PoA', 'total_PoA','squared_PoA', 'min_prob','logsum_prob', 'worst']"
   ]
  },
  {
   "cell_type": "code",
   "execution_count": 140,
   "metadata": {},
   "outputs": [
    {
     "name": "stdout",
     "output_type": "stream",
     "text": [
      "04-11-20 09:49:01-INFO-4 selected 26 with [2, 4]\n",
      "04-11-20 09:49:01-INFO-5 selected 19 with [5, 7]\n",
      "04-11-20 09:49:01-INFO-1 selected 12 with [0, 1]\n",
      "04-11-20 09:49:01-INFO-8 selected 30 with [6, 8]\n",
      "04-11-20 09:49:01-INFO-2 already served\n",
      "04-11-20 09:49:01-INFO-0 already served\n",
      "04-11-20 09:49:01-INFO-3 selected 3 with [3]\n",
      "04-11-20 09:49:01-INFO-9 selected 9 with [9]\n",
      "04-11-20 09:49:01-INFO-6 already served\n",
      "04-11-20 09:49:01-INFO-7 already served\n"
     ]
    }
   ],
   "source": [
    "import logging\n",
    "inData.logger.setLevel(logging.INFO)\n",
    "def user_based(inData, shuffle = False):\n",
    "    served = list() # list of those already served (as a decision-makers and when decisiom was made by others)\n",
    "    selected = list() # list of selected rides\n",
    "    ranks = inData.sblts.ranking_matrix.values.copy() # matrix where rows are travellers and columns are groups (rides)\n",
    "    # filled with nans for infeasible combinations\n",
    "    # and with values for incidence (traveller being part of the group)\n",
    "    # values may be: utility, probability or ranking\n",
    "    travellers = list(range(ranks.shape[0]))\n",
    "    if shuffle:\n",
    "        random.shuffle(travellers)\n",
    "    for i in travellers:  # iterate over each traveller\n",
    "        if not i in served: # unless he was not served (other traveller made a decision)\n",
    "            best = np.nanargmin(ranks[i,:]) # select best remaining option\n",
    "            selected += [best] # add this ride to solution\n",
    "            followers = ranks[:,best] # members of selected group\n",
    "            followers = list(np.argwhere(~np.isnan(followers)).flatten()) \n",
    "            served += followers # to be added as already served\n",
    "            inData.logger.info(\"{} selected {} with {}\".format(i,best,followers)) # log\n",
    "            for follower in followers:\n",
    "                ranks[:, np.argwhere(~np.isnan(ranks[follower,:]))] = np.nan  # remove rides containing traveller i selected\n",
    "\n",
    "        else:\n",
    "            inData.logger.info(\"{} already served\".format(i))\n",
    "    return selected\n",
    "\n",
    "    \n",
    "solution = user_based(inData, shuffle = True)\n",
    "inData.sblts.rides.selected = inData.sblts.rides.apply(lambda x: 1 if x.name in solution else 0, axis = 1)\n",
    "inData.sblts.shedule = inData.sblts.rides[inData.sblts.rides.selected == 1].copy()\n",
    "\n"
   ]
  },
  {
   "cell_type": "code",
   "execution_count": 128,
   "metadata": {},
   "outputs": [
    {
     "data": {
      "text/plain": [
       "[11, 12, 15, 3, 19, 17, 30, 20]"
      ]
     },
     "execution_count": 128,
     "metadata": {},
     "output_type": "execute_result"
    }
   ],
   "source": [
    "[11, 12, 15, 3, 19, 17, 30, 20]"
   ]
  },
  {
   "cell_type": "code",
   "execution_count": 7,
   "metadata": {},
   "outputs": [
    {
     "data": {
      "text/html": [
       "<div>\n",
       "<style scoped>\n",
       "    .dataframe tbody tr th:only-of-type {\n",
       "        vertical-align: middle;\n",
       "    }\n",
       "\n",
       "    .dataframe tbody tr th {\n",
       "        vertical-align: top;\n",
       "    }\n",
       "\n",
       "    .dataframe thead th {\n",
       "        text-align: right;\n",
       "    }\n",
       "</style>\n",
       "<table border=\"1\" class=\"dataframe\">\n",
       "  <thead>\n",
       "    <tr style=\"text-align: right;\">\n",
       "      <th></th>\n",
       "      <th>obj</th>\n",
       "      <th>description</th>\n",
       "    </tr>\n",
       "  </thead>\n",
       "  <tbody>\n",
       "    <tr>\n",
       "      <th>0</th>\n",
       "      <td>u_pax</td>\n",
       "      <td>minimize traveller disutility</td>\n",
       "    </tr>\n",
       "    <tr>\n",
       "      <th>1</th>\n",
       "      <td>u_veh</td>\n",
       "      <td>min vehicle hours</td>\n",
       "    </tr>\n",
       "    <tr>\n",
       "      <th>2</th>\n",
       "      <td>mean_ranking</td>\n",
       "      <td>rides of minimal mean ranking (for each travel...</td>\n",
       "    </tr>\n",
       "    <tr>\n",
       "      <th>3</th>\n",
       "      <td>mean_rel_ranking</td>\n",
       "      <td>as above yet relative ranking</td>\n",
       "    </tr>\n",
       "    <tr>\n",
       "      <th>4</th>\n",
       "      <td>mean_PoA</td>\n",
       "      <td>minimize mean PoA of selected rides</td>\n",
       "    </tr>\n",
       "    <tr>\n",
       "      <th>5</th>\n",
       "      <td>total_PoA</td>\n",
       "      <td>as above but total</td>\n",
       "    </tr>\n",
       "    <tr>\n",
       "      <th>6</th>\n",
       "      <td>squared_PoA</td>\n",
       "      <td>as above but total and squared</td>\n",
       "    </tr>\n",
       "    <tr>\n",
       "      <th>7</th>\n",
       "      <td>min_prob</td>\n",
       "      <td>maximize minimal probability (of least satisfi...</td>\n",
       "    </tr>\n",
       "    <tr>\n",
       "      <th>8</th>\n",
       "      <td>logsum_prob</td>\n",
       "      <td>maximize logsum of probabilities of travellers...</td>\n",
       "    </tr>\n",
       "    <tr>\n",
       "      <th>9</th>\n",
       "      <td>worst</td>\n",
       "      <td>worst case for comparisons - maximize disutility</td>\n",
       "    </tr>\n",
       "  </tbody>\n",
       "</table>\n",
       "</div>"
      ],
      "text/plain": [
       "                obj                                        description\n",
       "0             u_pax                      minimize traveller disutility\n",
       "1             u_veh                                  min vehicle hours\n",
       "2      mean_ranking  rides of minimal mean ranking (for each travel...\n",
       "3  mean_rel_ranking                      as above yet relative ranking\n",
       "4          mean_PoA                minimize mean PoA of selected rides\n",
       "5         total_PoA                                 as above but total\n",
       "6       squared_PoA                     as above but total and squared\n",
       "7          min_prob  maximize minimal probability (of least satisfi...\n",
       "8       logsum_prob  maximize logsum of probabilities of travellers...\n",
       "9             worst   worst case for comparisons - maximize disutility"
      ]
     },
     "execution_count": 7,
     "metadata": {},
     "output_type": "execute_result"
    }
   ],
   "source": [
    "descs = pd.Series(OBJS).to_frame(name='obj')\n",
    "descs['description'] = ['minimize traveller disutility', \n",
    "                        'min vehicle hours', \n",
    "                        'rides of minimal mean ranking (for each traveller)', \n",
    "                        'as above yet relative ranking', \n",
    "                        'minimize mean PoA of selected rides', \n",
    "                       'as above but total',\n",
    "                       'as above but total and squared', \n",
    "                       'maximize minimal probability (of least satisfied traveller) of selected rides', \n",
    "                       'maximize logsum of probabilities of travellers in selected rides',\n",
    "                       'worst case for comparisons - maximize disutility']\n",
    "descs"
   ]
  },
  {
   "cell_type": "markdown",
   "metadata": {},
   "source": [
    "functions"
   ]
  },
  {
   "cell_type": "code",
   "execution_count": 8,
   "metadata": {},
   "outputs": [],
   "source": [
    "def test_obj_fun(inData, obj = 'u_pax', _plot = False):\n",
    "    params.matching_obj = obj\n",
    "    if \"prob\" in obj:\n",
    "        params.minmax = 'max'\n",
    "    else:\n",
    "        params.minmax = 'min'\n",
    "    if obj == 'worst':\n",
    "        params.minmax = 'max'\n",
    "        params.matching_obj = 'u_pax'   \n",
    "    inData = matching(inData, params, plot = False)\n",
    "    if _plot:\n",
    "        m_solution = inData.sblts.m.copy()\n",
    "        fig, ax = plt.subplots()\n",
    "        for col in m_solution.columns:\n",
    "            if inData.sblts.rides.loc[col].selected==0:\n",
    "                m_solution[col] = m[col]\n",
    "            else:\n",
    "                m_solution[col] = m[col]*5\n",
    "\n",
    "        ax.imshow(m_solution, cmap='Greys', interpolation = 'Nearest')\n",
    "        ax.set_ylabel('rides')\n",
    "        _ = ax.set_xlabel('trips')\n",
    "        print('grey - feasible, black - selected')\n",
    "    inData = ExMAS.utils.calc_solution_PoA(inData)\n",
    "    ret = dict(PassUtility = inData.sblts.schedule.u_pax.sum(),\n",
    "              VehKm = inData.sblts.schedule.u_veh.sum(),\n",
    "              PoA_total = inData.sblts.schedule['mean_PoA'].sum(),\n",
    "              PoA_std = inData.sblts.schedule['mean_PoA'].std(),\n",
    "              ranking_mean = inData.sblts.schedule['mean_rel_ranking'].mean(),\n",
    "              ranking_std = inData.sblts.schedule['mean_rel_ranking'].std())\n",
    "    return pd.Series(ret)\n",
    "\n",
    "def plot_results(ret):\n",
    "    fig, ax = plt.subplots(2,3,figsize=(12,9), sharey = True)\n",
    "    ax = ax.flatten()\n",
    "    i=0\n",
    "    for KPI in ret.index:\n",
    "        ret.loc[KPI].plot(kind='barh',ax = ax[i])\n",
    "        ax[i].set_title(KPI)\n",
    "        i+=1\n",
    "    ax[2].set_xlim(0,ret.loc['PoA_total'].values[:-1].max()*1.05)\n",
    "    fig.suptitle('KPIs with various objective functions')\n",
    "    ax[0].set_ylabel('objectives')\n",
    "    ax[3].set_ylabel('objectives')  "
   ]
  },
  {
   "cell_type": "code",
   "execution_count": 9,
   "metadata": {},
   "outputs": [],
   "source": [
    "ret=dict()\n",
    "for obj in OBJS:\n",
    "    ret[obj]=test_obj_fun(inData, obj = obj, _plot = False)\n",
    "ret = pd.DataFrame(ret)\n"
   ]
  },
  {
   "cell_type": "code",
   "execution_count": 10,
   "metadata": {},
   "outputs": [
    {
     "data": {
      "image/png": "[encoded data removed]",
      "text/plain": [
       "<Figure size 864x648 with 6 Axes>"
      ]
     },
     "metadata": {
      "needs_background": "light"
     },
     "output_type": "display_data"
    }
   ],
   "source": [
    "plot_results(ret)"
   ]
  },
  {
   "cell_type": "code",
   "execution_count": 45,
   "metadata": {},
   "outputs": [],
   "source": [
    "im = inData.sblts.rides\n",
    "r = inData.sblts.requests\n",
    "request_indexes = dict()\n",
    "request_indexes_inv = dict()\n",
    "for i, index in enumerate(r.index.values):\n",
    "    request_indexes[index] = i\n",
    "    request_indexes_inv[i] = index\n",
    "\n",
    "im_indexes = dict()\n",
    "im_indexes_inv = dict()\n",
    "for i, index in enumerate(im.index.values):\n",
    "    im_indexes[index] = i\n",
    "    im_indexes_inv[i] = index\n",
    "\n",
    "\n",
    "\n",
    "im['lambda_r'] = im.apply(\n",
    "    lambda x: params.shared_discount if x.kind == 1 else 1 - x.u_veh / sum([r.loc[_].ttrav for _ in x.indexes]),\n",
    "    axis=1)\n",
    "\n",
    "im['PassHourTrav_ns'] = im.apply(lambda x: sum([r.loc[_].ttrav for _ in x.indexes]), axis=1)\n",
    "\n",
    "r = r.reset_index()\n",
    "\n",
    "if params.profitability:\n",
    "    im = im[im.lambda_r >= params.shared_discount]\n",
    "    logger.info('Out of {} trips  {} are directly profitable.'.format(r.shape[0],\n",
    "                                                                im.shape[0])) if logger is not None else None\n",
    "\n",
    "nR = r.shape[0]\n",
    "\n",
    "def add_binary_row(r):\n",
    "    ret = np.zeros(nR)\n",
    "    for i in r.indexes:\n",
    "        ret[request_indexes[i]] = 1\n",
    "    return ret\n",
    "\n",
    "\n",
    "im['row'] = im.apply(add_binary_row, axis=1)  # row to be used as constrain in optimization\n",
    "m = np.vstack(im['row'].values).T  # creates a numpy array for the constrains\n",
    "\n",
    "im['index'] = im.index.copy()\n",
    "\n",
    "im = im.reset_index(drop=True)\n",
    "\n",
    "# optimization\n",
    "maxmin = params.get('minmax','min')\n",
    "if maxmin == 'min':\n",
    "    prob = pulp.LpProblem(\"Matching problem\", pulp.LpMinimize)  # problem\n",
    "elif maxmin == 'max':\n",
    "    prob = pulp.LpProblem(\"Matching problem\", pulp.LpMaximize)  # problem\n",
    "\n",
    "variables = pulp.LpVariable.dicts(\"r\", (i for i in im.index), cat='Binary')  # decision variables\n",
    "\n",
    "cost_col = params.matching_obj\n",
    "if cost_col == 'degree':\n",
    "    costs = im.indexes.apply(lambda x: -(10 ** len(x)))\n",
    "elif cost_col == 'u_pax':\n",
    "    costs = im[cost_col]  # set the costs\n",
    "else:\n",
    "    costs = im[cost_col]  # set the costs\n",
    "\n",
    "prob += pulp.lpSum([variables[i] * costs[i] for i in variables]), 'ObjectiveFun'  # ffef\n",
    "\n",
    "j = 0  # adding constrains\n",
    "for imr in m:\n",
    "    j += 1\n",
    "    prob += pulp.lpSum([imr[i] * variables[i] for i in variables if imr[i] > 0]) == 1, 'c' + str(j)\n",
    "\n",
    "    \n",
    "solver = pulp.get_solver('PULP_CBC_CMD')\n",
    "solver.msg = True\n",
    "solver.keepFiles = True\n",
    "\n",
    "prob.solve(solver)  # main otpimization call\n",
    "\n",
    "\n",
    "# assert pulp.value(prob.objective) <= sum(costs[:nR]) + 2  # we did not go above original\n",
    "\n",
    "locs = dict()\n",
    "for variable in prob.variables():\n",
    "    i = int(variable.name.split(\"_\")[1])\n",
    "\n",
    "    locs[im_indexes_inv[i]] = (int(variable.varValue))\n",
    "    # _inData.logger.info(\"{} = {}\".format(int(variable.name.split(\"_\")[1]), int(variable.varValue)))"
   ]
  },
  {
   "cell_type": "code",
   "execution_count": 33,
   "metadata": {},
   "outputs": [],
   "source": [
    "solver = pulp.get_solver('PULP_CBC_CMD')"
   ]
  },
  {
   "cell_type": "code",
   "execution_count": 44,
   "metadata": {},
   "outputs": [],
   "source": [
    "solver.keepFiles = True"
   ]
  },
  {
   "cell_type": "code",
   "execution_count": 14,
   "metadata": {},
   "outputs": [],
   "source": []
  },
  {
   "cell_type": "code",
   "execution_count": 16,
   "metadata": {},
   "outputs": [
    {
     "data": {
      "text/plain": [
       "dict_keys(['objective', 'constraints', 'name', 'sense', 'sos1', 'sos2', 'status', 'sol_status', 'noOverlap', 'solver', 'modifiedVariables', 'modifiedConstraints', 'resolveOK', '_variables', '_variable_ids', 'dummyVar', 'lastUnused', 'solutionTime'])"
      ]
     },
     "execution_count": 16,
     "metadata": {},
     "output_type": "execute_result"
    }
   ],
   "source": [
    "ret.keys()"
   ]
  },
  {
   "cell_type": "code",
   "execution_count": 28,
   "metadata": {},
   "outputs": [
    {
     "data": {
      "text/plain": [
       "OrderedDict([('c1',\n",
       "              1.0*r_0 + 1.0*r_10 + 1.0*r_11 + 1.0*r_12 + 1.0*r_22 + 1.0*r_24 + 1.0*r_31 + 1.0*r_33 + 1.0*r_34 + -1.0 = 0),\n",
       "             ('c2',\n",
       "              1.0*r_1 + 1.0*r_12 + 1.0*r_13 + 1.0*r_16 + 1.0*r_18 + 1.0*r_20 + 1.0*r_23 + 1.0*r_32 + -1.0 = 0),\n",
       "             ('c3',\n",
       "              1.0*r_14 + 1.0*r_15 + 1.0*r_2 + 1.0*r_24 + 1.0*r_25 + 1.0*r_26 + 1.0*r_27 + 1.0*r_28 + 1.0*r_34 + -1.0 = 0),\n",
       "             ('c4', 1.0*r_25 + 1.0*r_3 + -1.0 = 0),\n",
       "             ('c5', 1.0*r_15 + 1.0*r_26 + 1.0*r_4 + -1.0 = 0),\n",
       "             ('c6',\n",
       "              1.0*r_10 + 1.0*r_16 + 1.0*r_17 + 1.0*r_19 + 1.0*r_27 + 1.0*r_29 + 1.0*r_31 + 1.0*r_32 + 1.0*r_33 + 1.0*r_34 + 1.0*r_5 + -1.0 = 0),\n",
       "             ('c7',\n",
       "              1.0*r_13 + 1.0*r_17 + 1.0*r_18 + 1.0*r_21 + 1.0*r_30 + 1.0*r_32 + 1.0*r_6 + -1.0 = 0),\n",
       "             ('c8',\n",
       "              1.0*r_11 + 1.0*r_19 + 1.0*r_22 + 1.0*r_28 + 1.0*r_29 + 1.0*r_31 + 1.0*r_33 + 1.0*r_7 + -1.0 = 0),\n",
       "             ('c9', 1.0*r_23 + 1.0*r_30 + 1.0*r_8 + -1.0 = 0),\n",
       "             ('c10', 1.0*r_14 + 1.0*r_20 + 1.0*r_21 + 1.0*r_9 + -1.0 = 0)])"
      ]
     },
     "execution_count": 28,
     "metadata": {},
     "output_type": "execute_result"
    }
   ],
   "source": [
    "ret['constraints']"
   ]
  },
  {
   "cell_type": "code",
   "execution_count": 29,
   "metadata": {},
   "outputs": [],
   "source": [
    "prob.to_json('de.json')"
   ]
  },
  {
   "cell_type": "markdown",
   "metadata": {},
   "source": [
    "# big"
   ]
  },
  {
   "cell_type": "code",
   "execution_count": 11,
   "metadata": {},
   "outputs": [],
   "source": [
    "params = ExMAS.utils.get_config('ExMAS/spinoffs/game/big.json') # load the default \n",
    "params.t0 = pd.to_datetime(params.t0)\n",
    "params.matching_obj = 'u_pax'\n",
    "inData = ExMAS.utils.load_G(inData, params, stats=True)  # download the graph"
   ]
  },
  {
   "cell_type": "code",
   "execution_count": 12,
   "metadata": {},
   "outputs": [],
   "source": [
    "params.logger_level = 'INFO'\n",
    "params.avg_speed\n",
    "params.shared_discount = 0.3\n",
    "params.avg_speed = 8\n",
    "params.nP = 400\n",
    "params.matching_obj = 'u_pax'\n",
    "params.t0 = '17:00'\n",
    "params.t0 = pd.to_datetime(params.t0)\n",
    "params.VoT = 0.0035\n",
    "params.WtS = 1.3\n",
    "params.price = 1.5\n",
    "params.horizon = -1\n",
    "params.delay_value = 1.5\n",
    "params.pax_delay = 10\n",
    "params.max_degree = 5"
   ]
  },
  {
   "cell_type": "code",
   "execution_count": 13,
   "metadata": {},
   "outputs": [],
   "source": [
    "inData = ExMAS.utils.generate_demand(inData, params)"
   ]
  },
  {
   "cell_type": "code",
   "execution_count": 14,
   "metadata": {},
   "outputs": [
    {
     "name": "stdout",
     "output_type": "stream",
     "text": [
      "03-11-20 09:53:23-INFO-Initializing pairwise trip shareability between 400 and 400 trips.\n",
      "03-11-20 09:53:23-INFO-creating combinations\n",
      "03-11-20 09:53:23-INFO-159600\t nR*(nR-1)\n",
      "03-11-20 09:53:31-INFO-Reduction of feasible pairs by 99.33%\n",
      "03-11-20 09:53:31-INFO-Degree 2 \tCompleted\n",
      "03-11-20 09:53:31-INFO-trips to extend at degree 2 : 2476\n",
      "03-11-20 09:53:34-INFO-At degree 2 feasible extensions found out of 256 searched\n",
      "03-11-20 09:53:34-INFO-Degree 3 \tCompleted\n",
      "03-11-20 09:53:34-INFO-trips to extend at degree 3 : 256\n",
      "03-11-20 09:53:35-INFO-At degree 3 feasible extensions found out of 26 searched\n",
      "03-11-20 09:53:35-INFO-Degree 4 \tCompleted\n",
      "03-11-20 09:53:35-INFO-trips to extend at degree 4 : 26\n",
      "03-11-20 09:53:35-INFO-At degree 4 feasible extensions found out of 1 searched\n",
      "03-11-20 09:53:35-INFO-Degree 5 \tCompleted\n",
      "03-11-20 09:53:35-INFO-Max degree reached 5\n",
      "03-11-20 09:53:35-INFO-Trips still possible to extend at degree 5 : 1\n",
      "03-11-20 09:53:37-INFO-Matching 400 trips to 3159 rides in order to min u_pax\n",
      "03-11-20 09:53:39-INFO-Problem solution: Optimal. \n",
      "Total costs for single trips:          3,280 \n",
      "reduced by matching to:                2,940\n",
      "03-11-20 09:53:39-INFO-Calculations  completed\n",
      "03-11-20 09:53:39-INFO-DotMap(VehHourTrav=183703, VehHourTrav_ns=211479, PassHourTrav=233542, PassHourTrav_ns=211479, PassUtility=2940.8715249999996, PassUtility_ns=3280.0605000000005, mean_lambda=0.13031621583685915, revenue_s=222052.94999999998, revenue_ns=317218.5, Fare_Discount=-0.30000000000000004, nR=400, SINGLE=44, PAIRS=178, TRIPLES=0, QUADRIPLES=0, QUINTETS=0, PLUS5=0, shared_ratio=0.89, fleet_size_nonshared=68.0, fleet_size_shared=57.0, lambda_shared=0.13031621583685915)\n"
     ]
    }
   ],
   "source": [
    "inData = ExMAS.main(inData, params)"
   ]
  },
  {
   "cell_type": "code",
   "execution_count": 15,
   "metadata": {},
   "outputs": [],
   "source": [
    "inData = ExMAS.utils.prepare_PoA(inData)"
   ]
  },
  {
   "cell_type": "code",
   "execution_count": 19,
   "metadata": {},
   "outputs": [
    {
     "name": "stdout",
     "output_type": "stream",
     "text": [
      "03-11-20 09:55:40-INFO-Matching 400 trips to 3159 rides in order to min u_pax\n",
      "03-11-20 09:55:42-INFO-Problem solution: Optimal. \n",
      "Total costs for single trips:          3,280 \n",
      "reduced by matching to:                2,940\n",
      "03-11-20 09:55:45-INFO-Matching 400 trips to 3159 rides in order to min u_veh\n",
      "03-11-20 09:55:47-INFO-Problem solution: Optimal. \n",
      "Total costs for single trips:        211,479 \n",
      "reduced by matching to:              154,178\n",
      "03-11-20 09:55:50-INFO-Matching 400 trips to 3159 rides in order to min mean_ranking\n",
      "03-11-20 09:55:52-INFO-Problem solution: Optimal. \n",
      "Total costs for single trips:          5,958 \n",
      "reduced by matching to:                  748\n",
      "03-11-20 09:55:55-INFO-Matching 400 trips to 3159 rides in order to min mean_rel_ranking\n",
      "03-11-20 09:55:57-INFO-Problem solution: Optimal. \n",
      "Total costs for single trips:            380 \n",
      "reduced by matching to:                   68\n",
      "03-11-20 09:56:00-INFO-Matching 400 trips to 3159 rides in order to min mean_PoA\n",
      "03-11-20 09:56:02-INFO-Problem solution: Optimal. \n",
      "Total costs for single trips:            440 \n",
      "reduced by matching to:                   54\n",
      "03-11-20 09:56:06-INFO-Matching 400 trips to 3159 rides in order to min total_PoA\n",
      "03-11-20 09:56:07-INFO-Problem solution: Optimal. \n",
      "Total costs for single trips:            440 \n",
      "reduced by matching to:                   99\n",
      "03-11-20 09:56:10-INFO-Matching 400 trips to 3159 rides in order to min squared_PoA\n",
      "03-11-20 09:56:12-INFO-Problem solution: Optimal. \n",
      "Total costs for single trips:            646 \n",
      "reduced by matching to:                   27\n",
      "03-11-20 09:56:16-INFO-Matching 400 trips to 3159 rides in order to max min_prob\n",
      "03-11-20 09:56:17-INFO-Problem solution: Optimal. \n",
      "Total costs for single trips:             10 \n",
      "reduced by matching to:                   26\n",
      "03-11-20 09:56:20-INFO-Matching 400 trips to 3159 rides in order to max logsum_prob\n",
      "03-11-20 09:56:21-INFO-Problem solution: Optimal. \n",
      "Total costs for single trips:         -4,633 \n",
      "reduced by matching to:               -1,227\n",
      "03-11-20 09:56:25-INFO-Matching 400 trips to 3159 rides in order to max u_pax\n",
      "03-11-20 09:56:26-INFO-Problem solution: Optimal. \n",
      "Total costs for single trips:          3,280 \n",
      "reduced by matching to:                3,280\n"
     ]
    },
    {
     "data": {
      "text/html": [
       "<div>\n",
       "<style scoped>\n",
       "    .dataframe tbody tr th:only-of-type {\n",
       "        vertical-align: middle;\n",
       "    }\n",
       "\n",
       "    .dataframe tbody tr th {\n",
       "        vertical-align: top;\n",
       "    }\n",
       "\n",
       "    .dataframe thead th {\n",
       "        text-align: right;\n",
       "    }\n",
       "</style>\n",
       "<table border=\"1\" class=\"dataframe\">\n",
       "  <thead>\n",
       "    <tr style=\"text-align: right;\">\n",
       "      <th></th>\n",
       "      <th>u_pax</th>\n",
       "      <th>u_veh</th>\n",
       "      <th>mean_ranking</th>\n",
       "      <th>mean_rel_ranking</th>\n",
       "      <th>mean_PoA</th>\n",
       "      <th>total_PoA</th>\n",
       "      <th>squared_PoA</th>\n",
       "      <th>min_prob</th>\n",
       "      <th>logsum_prob</th>\n",
       "      <th>worst</th>\n",
       "    </tr>\n",
       "  </thead>\n",
       "  <tbody>\n",
       "    <tr>\n",
       "      <th>PassUtility</th>\n",
       "      <td>2940.871525</td>\n",
       "      <td>3089.398875</td>\n",
       "      <td>2959.541387</td>\n",
       "      <td>2971.361350</td>\n",
       "      <td>2944.124862</td>\n",
       "      <td>2941.464337</td>\n",
       "      <td>2950.095175</td>\n",
       "      <td>2976.464800</td>\n",
       "      <td>2941.366637</td>\n",
       "      <td>3280.060500</td>\n",
       "    </tr>\n",
       "    <tr>\n",
       "      <th>VehKm</th>\n",
       "      <td>185483.000000</td>\n",
       "      <td>154178.000000</td>\n",
       "      <td>188331.000000</td>\n",
       "      <td>194154.000000</td>\n",
       "      <td>185576.000000</td>\n",
       "      <td>185453.000000</td>\n",
       "      <td>183266.000000</td>\n",
       "      <td>188852.000000</td>\n",
       "      <td>185534.000000</td>\n",
       "      <td>211479.000000</td>\n",
       "    </tr>\n",
       "    <tr>\n",
       "      <th>PoA_total</th>\n",
       "      <td>57.250000</td>\n",
       "      <td>130.275000</td>\n",
       "      <td>62.650000</td>\n",
       "      <td>64.750000</td>\n",
       "      <td>54.050000</td>\n",
       "      <td>56.750000</td>\n",
       "      <td>57.533333</td>\n",
       "      <td>99.300000</td>\n",
       "      <td>56.150000</td>\n",
       "      <td>440.000000</td>\n",
       "    </tr>\n",
       "    <tr>\n",
       "      <th>PoA_std</th>\n",
       "      <td>0.208352</td>\n",
       "      <td>0.388933</td>\n",
       "      <td>0.244485</td>\n",
       "      <td>0.243683</td>\n",
       "      <td>0.193491</td>\n",
       "      <td>0.203602</td>\n",
       "      <td>0.172936</td>\n",
       "      <td>0.446549</td>\n",
       "      <td>0.202682</td>\n",
       "      <td>0.638961</td>\n",
       "    </tr>\n",
       "    <tr>\n",
       "      <th>ranking_mean</th>\n",
       "      <td>0.403994</td>\n",
       "      <td>0.684775</td>\n",
       "      <td>0.375398</td>\n",
       "      <td>0.338285</td>\n",
       "      <td>0.380495</td>\n",
       "      <td>0.401770</td>\n",
       "      <td>0.408424</td>\n",
       "      <td>0.506642</td>\n",
       "      <td>0.399520</td>\n",
       "      <td>0.950129</td>\n",
       "    </tr>\n",
       "    <tr>\n",
       "      <th>ranking_std</th>\n",
       "      <td>0.298625</td>\n",
       "      <td>0.267206</td>\n",
       "      <td>0.270943</td>\n",
       "      <td>0.201975</td>\n",
       "      <td>0.268374</td>\n",
       "      <td>0.297724</td>\n",
       "      <td>0.275692</td>\n",
       "      <td>0.360963</td>\n",
       "      <td>0.295791</td>\n",
       "      <td>0.086009</td>\n",
       "    </tr>\n",
       "  </tbody>\n",
       "</table>\n",
       "</div>"
      ],
      "text/plain": [
       "                      u_pax          u_veh   mean_ranking  mean_rel_ranking  \\\n",
       "PassUtility     2940.871525    3089.398875    2959.541387       2971.361350   \n",
       "VehKm         185483.000000  154178.000000  188331.000000     194154.000000   \n",
       "PoA_total         57.250000     130.275000      62.650000         64.750000   \n",
       "PoA_std            0.208352       0.388933       0.244485          0.243683   \n",
       "ranking_mean       0.403994       0.684775       0.375398          0.338285   \n",
       "ranking_std        0.298625       0.267206       0.270943          0.201975   \n",
       "\n",
       "                   mean_PoA      total_PoA    squared_PoA       min_prob  \\\n",
       "PassUtility     2944.124862    2941.464337    2950.095175    2976.464800   \n",
       "VehKm         185576.000000  185453.000000  183266.000000  188852.000000   \n",
       "PoA_total         54.050000      56.750000      57.533333      99.300000   \n",
       "PoA_std            0.193491       0.203602       0.172936       0.446549   \n",
       "ranking_mean       0.380495       0.401770       0.408424       0.506642   \n",
       "ranking_std        0.268374       0.297724       0.275692       0.360963   \n",
       "\n",
       "                logsum_prob          worst  \n",
       "PassUtility     2941.366637    3280.060500  \n",
       "VehKm         185534.000000  211479.000000  \n",
       "PoA_total         56.150000     440.000000  \n",
       "PoA_std            0.202682       0.638961  \n",
       "ranking_mean       0.399520       0.950129  \n",
       "ranking_std        0.295791       0.086009  "
      ]
     },
     "execution_count": 19,
     "metadata": {},
     "output_type": "execute_result"
    }
   ],
   "source": [
    "for obj in OBJS:\n",
    "    ret[obj]=test_obj_fun(inData, obj = obj, _plot = False)\n",
    "ret = pd.DataFrame(ret)\n",
    "ret"
   ]
  },
  {
   "cell_type": "code",
   "execution_count": 20,
   "metadata": {},
   "outputs": [
    {
     "data": {
      "image/png": "[encoded data removed]",
      "text/plain": [
       "<Figure size 864x648 with 6 Axes>"
      ]
     },
     "metadata": {
      "needs_background": "light"
     },
     "output_type": "display_data"
    }
   ],
   "source": [
    "plot_results(ret)"
   ]
  },
  {
   "cell_type": "markdown",
   "metadata": {},
   "source": [
    "---\n",
    "(c) Rafał Kucharski, Delft, 2020"
   ]
  }
 ],
 "metadata": {
  "kernelspec": {
   "display_name": "Python 3",
   "language": "python",
   "name": "python3"
  },
  "language_info": {
   "codemirror_mode": {
    "name": "ipython",
    "version": 3
   },
   "file_extension": ".py",
   "mimetype": "text/x-python",
   "name": "python",
   "nbconvert_exporter": "python",
   "pygments_lexer": "ipython3",
   "version": "3.7.6"
  }
 },
 "nbformat": 4,
 "nbformat_minor": 4
}
