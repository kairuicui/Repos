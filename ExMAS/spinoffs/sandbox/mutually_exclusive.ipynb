{
 "cells": [
  {
   "cell_type": "markdown",
   "metadata": {},
   "source": [
    "## ExMAS\n",
    "> Showcase for mutually exclusive  rides in the solution"
   ]
  },
  {
   "cell_type": "code",
   "execution_count": 1,
   "metadata": {},
   "outputs": [],
   "source": [
    "import os\n",
    "import math\n",
    "import seaborn as sns\n",
    "import numpy as np\n",
    "import pandas as pd\n",
    "import matplotlib.pyplot as plt\n",
    "cwd = os.getcwd()\n",
    "%load_ext autoreload\n",
    "%autoreload 2"
   ]
  },
  {
   "cell_type": "code",
   "execution_count": 2,
   "metadata": {},
   "outputs": [],
   "source": [
    "from IPython.display import display\n",
    "pd.options.display.max_columns = None"
   ]
  },
  {
   "cell_type": "code",
   "execution_count": 3,
   "metadata": {},
   "outputs": [],
   "source": [
    "os.chdir(os.path.join(cwd,'../../..'))\n",
    "import ExMAS.main\n",
    "import ExMAS.utils\n",
    "from ExMAS.utils import inData as inData\n",
    "from ExMAS.main import matching"
   ]
  },
  {
   "cell_type": "code",
   "execution_count": 4,
   "metadata": {},
   "outputs": [],
   "source": [
    "params = ExMAS.utils.get_config('ExMAS/spinoffs/game/game_toy.json') # load the default \n",
    "params.t0 = pd.to_datetime(params.t0)\n",
    "params.matching_obj = 'u_pax'\n",
    "inData = ExMAS.utils.load_G(inData, params, stats=True)  # download the graph\n",
    "inData.requests = ExMAS.utils.load_requests('ExMAS/spinoffs/game/toy.csv')"
   ]
  },
  {
   "cell_type": "code",
   "execution_count": 5,
   "metadata": {},
   "outputs": [],
   "source": [
    "from ExMAS.main import init_log\n",
    "params.logger_level = 'INFO'\n",
    "inData.logger = init_log(params)"
   ]
  },
  {
   "cell_type": "code",
   "execution_count": 6,
   "metadata": {},
   "outputs": [
    {
     "name": "stdout",
     "output_type": "stream",
     "text": [
      "09-12-20 10:12:34-INFO-Initializing pairwise trip shareability between 10 and 10 trips.\n",
      "09-12-20 10:12:34-INFO-creating combinations\n",
      "09-12-20 10:12:34-INFO-90\t nR*(nR-1)\n",
      "09-12-20 10:12:34-INFO-Reduction of feasible pairs by 90.00%\n",
      "09-12-20 10:12:34-INFO-Degree 2 \tCompleted\n",
      "09-12-20 10:12:34-INFO-trips to extend at degree 2 : 21\n",
      "09-12-20 10:12:34-INFO-At degree 2 feasible extensions found out of 4 searched\n",
      "09-12-20 10:12:34-INFO-Degree 3 \tCompleted\n",
      "09-12-20 10:12:34-INFO-trips to extend at degree 3 : 4\n",
      "09-12-20 10:12:34-INFO-At degree 3 feasible extensions found out of 0 searched\n",
      "09-12-20 10:12:34-INFO-Degree 4 \tCompleted\n",
      "09-12-20 10:12:34-INFO-No more trips to exted at degree 4\n",
      "09-12-20 10:12:34-INFO-Matching 10 trips to 35 rides in order to min u_pax\n",
      "09-12-20 10:12:34-INFO-Problem solution: Optimal. \n",
      "Total costs for single trips:             32 \n",
      "reduced by matching to:                   26\n",
      "09-12-20 10:12:34-INFO-Calculations  completed\n",
      "09-12-20 10:12:34-INFO-DotMap(VehHourTrav=1830, VehHourTrav_ns=2115, PassHourTrav=2297, PassHourTrav_ns=2115, PassUtility=26.804599999999997, PassUtility_ns=32.8185, mean_lambda=0.11980830670926512, revenue_s=1586.25, revenue_ns=3172.5, Fare_Discount=-0.5, nR=10, SINGLE=2, PAIRS=4, TRIPLES=0, QUADRIPLES=0, QUINTETS=0, PLUS5=0, shared_ratio=0.8, fleet_size_nonshared=8.0, fleet_size_shared=5.0, lambda_shared=0.11980830670926512)\n"
     ]
    }
   ],
   "source": [
    "params.shared_discount = 0.5\n",
    "inData = ExMAS.main(inData, params, plot = False)\n",
    "KPIs = inData.sblts.res.to_frame('u_pax')"
   ]
  },
  {
   "cell_type": "markdown",
   "metadata": {},
   "source": [
    "### inspect the solution"
   ]
  },
  {
   "cell_type": "code",
   "execution_count": 7,
   "metadata": {},
   "outputs": [
    {
     "data": {
      "text/html": [
       "<div>\n",
       "<style scoped>\n",
       "    .dataframe tbody tr th:only-of-type {\n",
       "        vertical-align: middle;\n",
       "    }\n",
       "\n",
       "    .dataframe tbody tr th {\n",
       "        vertical-align: top;\n",
       "    }\n",
       "\n",
       "    .dataframe thead th {\n",
       "        text-align: right;\n",
       "    }\n",
       "</style>\n",
       "<table border=\"1\" class=\"dataframe\">\n",
       "  <thead>\n",
       "    <tr style=\"text-align: right;\">\n",
       "      <th></th>\n",
       "      <th>indexes</th>\n",
       "    </tr>\n",
       "  </thead>\n",
       "  <tbody>\n",
       "    <tr>\n",
       "      <th>3</th>\n",
       "      <td>[3]</td>\n",
       "    </tr>\n",
       "    <tr>\n",
       "      <th>8</th>\n",
       "      <td>[8]</td>\n",
       "    </tr>\n",
       "    <tr>\n",
       "      <th>11</th>\n",
       "      <td>[0, 7]</td>\n",
       "    </tr>\n",
       "    <tr>\n",
       "      <th>17</th>\n",
       "      <td>[5, 6]</td>\n",
       "    </tr>\n",
       "    <tr>\n",
       "      <th>20</th>\n",
       "      <td>[9, 1]</td>\n",
       "    </tr>\n",
       "    <tr>\n",
       "      <th>26</th>\n",
       "      <td>[2, 4]</td>\n",
       "    </tr>\n",
       "  </tbody>\n",
       "</table>\n",
       "</div>"
      ],
      "text/plain": [
       "   indexes\n",
       "3      [3]\n",
       "8      [8]\n",
       "11  [0, 7]\n",
       "17  [5, 6]\n",
       "20  [9, 1]\n",
       "26  [2, 4]"
      ]
     },
     "execution_count": 7,
     "metadata": {},
     "output_type": "execute_result"
    }
   ],
   "source": [
    "rides = inData.sblts.rides\n",
    "rides[rides.selected==1][['indexes']]"
   ]
  },
  {
   "cell_type": "markdown",
   "metadata": {},
   "source": [
    "let's exclude pair `[3,8]`"
   ]
  },
  {
   "cell_type": "code",
   "execution_count": 8,
   "metadata": {},
   "outputs": [
    {
     "name": "stdout",
     "output_type": "stream",
     "text": [
      "09-12-20 10:12:35-INFO-Matching 10 trips to 35 rides in order to min u_pax\n",
      "09-12-20 10:12:35-INFO-Adding 1 mutually exlcusive constrains\n",
      "09-12-20 10:12:35-INFO-Problem solution: Optimal. \n",
      "Total costs for single trips:             32 \n",
      "reduced by matching to:                   26\n"
     ]
    },
    {
     "data": {
      "text/html": [
       "<div>\n",
       "<style scoped>\n",
       "    .dataframe tbody tr th:only-of-type {\n",
       "        vertical-align: middle;\n",
       "    }\n",
       "\n",
       "    .dataframe tbody tr th {\n",
       "        vertical-align: top;\n",
       "    }\n",
       "\n",
       "    .dataframe thead th {\n",
       "        text-align: right;\n",
       "    }\n",
       "</style>\n",
       "<table border=\"1\" class=\"dataframe\">\n",
       "  <thead>\n",
       "    <tr style=\"text-align: right;\">\n",
       "      <th></th>\n",
       "      <th>indexes</th>\n",
       "    </tr>\n",
       "  </thead>\n",
       "  <tbody>\n",
       "    <tr>\n",
       "      <th>3</th>\n",
       "      <td>[3]</td>\n",
       "    </tr>\n",
       "    <tr>\n",
       "      <th>7</th>\n",
       "      <td>[7]</td>\n",
       "    </tr>\n",
       "    <tr>\n",
       "      <th>10</th>\n",
       "      <td>[0, 5]</td>\n",
       "    </tr>\n",
       "    <tr>\n",
       "      <th>20</th>\n",
       "      <td>[9, 1]</td>\n",
       "    </tr>\n",
       "    <tr>\n",
       "      <th>26</th>\n",
       "      <td>[2, 4]</td>\n",
       "    </tr>\n",
       "    <tr>\n",
       "      <th>30</th>\n",
       "      <td>[6, 8]</td>\n",
       "    </tr>\n",
       "  </tbody>\n",
       "</table>\n",
       "</div>"
      ],
      "text/plain": [
       "   indexes\n",
       "3      [3]\n",
       "7      [7]\n",
       "10  [0, 5]\n",
       "20  [9, 1]\n",
       "26  [2, 4]\n",
       "30  [6, 8]"
      ]
     },
     "execution_count": 8,
     "metadata": {},
     "output_type": "execute_result"
    }
   ],
   "source": [
    "inData.sblts.mutually_exclusives = [[3,8]]\n",
    "\n",
    "inData = matching(inData, params)\n",
    "rides = inData.sblts.rides\n",
    "rides[rides.selected==1][['indexes']]"
   ]
  },
  {
   "cell_type": "markdown",
   "metadata": {},
   "source": [
    "now it is gone from the solution, (3 remained, but 8 is gone)\n",
    "\n",
    "so now let's remove also `[30,26]`"
   ]
  },
  {
   "cell_type": "code",
   "execution_count": 9,
   "metadata": {},
   "outputs": [
    {
     "name": "stdout",
     "output_type": "stream",
     "text": [
      "09-12-20 10:12:35-INFO-Matching 10 trips to 35 rides in order to min u_pax\n",
      "09-12-20 10:12:35-INFO-Adding 2 mutually exlcusive constrains\n",
      "09-12-20 10:12:35-INFO-Problem solution: Optimal. \n",
      "Total costs for single trips:             32 \n",
      "reduced by matching to:                   27\n"
     ]
    },
    {
     "data": {
      "text/html": [
       "<div>\n",
       "<style scoped>\n",
       "    .dataframe tbody tr th:only-of-type {\n",
       "        vertical-align: middle;\n",
       "    }\n",
       "\n",
       "    .dataframe tbody tr th {\n",
       "        vertical-align: top;\n",
       "    }\n",
       "\n",
       "    .dataframe thead th {\n",
       "        text-align: right;\n",
       "    }\n",
       "</style>\n",
       "<table border=\"1\" class=\"dataframe\">\n",
       "  <thead>\n",
       "    <tr style=\"text-align: right;\">\n",
       "      <th></th>\n",
       "      <th>indexes</th>\n",
       "    </tr>\n",
       "  </thead>\n",
       "  <tbody>\n",
       "    <tr>\n",
       "      <th>3</th>\n",
       "      <td>[3]</td>\n",
       "    </tr>\n",
       "    <tr>\n",
       "      <th>7</th>\n",
       "      <td>[7]</td>\n",
       "    </tr>\n",
       "    <tr>\n",
       "      <th>10</th>\n",
       "      <td>[0, 5]</td>\n",
       "    </tr>\n",
       "    <tr>\n",
       "      <th>15</th>\n",
       "      <td>[4, 2]</td>\n",
       "    </tr>\n",
       "    <tr>\n",
       "      <th>20</th>\n",
       "      <td>[9, 1]</td>\n",
       "    </tr>\n",
       "    <tr>\n",
       "      <th>30</th>\n",
       "      <td>[6, 8]</td>\n",
       "    </tr>\n",
       "  </tbody>\n",
       "</table>\n",
       "</div>"
      ],
      "text/plain": [
       "   indexes\n",
       "3      [3]\n",
       "7      [7]\n",
       "10  [0, 5]\n",
       "15  [4, 2]\n",
       "20  [9, 1]\n",
       "30  [6, 8]"
      ]
     },
     "execution_count": 9,
     "metadata": {},
     "output_type": "execute_result"
    }
   ],
   "source": [
    "inData.sblts.mutually_exclusives = [[3,8],[26,30]]\n",
    "\n",
    "inData = matching(inData, params)\n",
    "rides = inData.sblts.rides\n",
    "rides[rides.selected==1][['indexes']]"
   ]
  },
  {
   "cell_type": "markdown",
   "metadata": {},
   "source": [
    "revert"
   ]
  },
  {
   "cell_type": "code",
   "execution_count": 10,
   "metadata": {},
   "outputs": [
    {
     "name": "stdout",
     "output_type": "stream",
     "text": [
      "09-12-20 10:12:35-INFO-Matching 10 trips to 35 rides in order to min u_pax\n",
      "09-12-20 10:12:35-INFO-Problem solution: Optimal. \n",
      "Total costs for single trips:             32 \n",
      "reduced by matching to:                   26\n"
     ]
    },
    {
     "data": {
      "text/html": [
       "<div>\n",
       "<style scoped>\n",
       "    .dataframe tbody tr th:only-of-type {\n",
       "        vertical-align: middle;\n",
       "    }\n",
       "\n",
       "    .dataframe tbody tr th {\n",
       "        vertical-align: top;\n",
       "    }\n",
       "\n",
       "    .dataframe thead th {\n",
       "        text-align: right;\n",
       "    }\n",
       "</style>\n",
       "<table border=\"1\" class=\"dataframe\">\n",
       "  <thead>\n",
       "    <tr style=\"text-align: right;\">\n",
       "      <th></th>\n",
       "      <th>indexes</th>\n",
       "    </tr>\n",
       "  </thead>\n",
       "  <tbody>\n",
       "    <tr>\n",
       "      <th>3</th>\n",
       "      <td>[3]</td>\n",
       "    </tr>\n",
       "    <tr>\n",
       "      <th>8</th>\n",
       "      <td>[8]</td>\n",
       "    </tr>\n",
       "    <tr>\n",
       "      <th>11</th>\n",
       "      <td>[0, 7]</td>\n",
       "    </tr>\n",
       "    <tr>\n",
       "      <th>17</th>\n",
       "      <td>[5, 6]</td>\n",
       "    </tr>\n",
       "    <tr>\n",
       "      <th>20</th>\n",
       "      <td>[9, 1]</td>\n",
       "    </tr>\n",
       "    <tr>\n",
       "      <th>26</th>\n",
       "      <td>[2, 4]</td>\n",
       "    </tr>\n",
       "  </tbody>\n",
       "</table>\n",
       "</div>"
      ],
      "text/plain": [
       "   indexes\n",
       "3      [3]\n",
       "8      [8]\n",
       "11  [0, 7]\n",
       "17  [5, 6]\n",
       "20  [9, 1]\n",
       "26  [2, 4]"
      ]
     },
     "execution_count": 10,
     "metadata": {},
     "output_type": "execute_result"
    }
   ],
   "source": [
    "inData.sblts.mutually_exclusives = []\n",
    "\n",
    "inData = matching(inData, params)\n",
    "rides = inData.sblts.rides\n",
    "rides[rides.selected==1][['indexes']]"
   ]
  },
  {
   "cell_type": "markdown",
   "metadata": {},
   "source": [
    "---\n",
    "(c) Rafał Kucharski, Delft, 2020"
   ]
  }
 ],
 "metadata": {
  "kernelspec": {
   "display_name": "Python 3",
   "language": "python",
   "name": "python3"
  },
  "language_info": {
   "codemirror_mode": {
    "name": "ipython",
    "version": 3
   },
   "file_extension": ".py",
   "mimetype": "text/x-python",
   "name": "python",
   "nbconvert_exporter": "python",
   "pygments_lexer": "ipython3",
   "version": "3.7.6"
  }
 },
 "nbformat": 4,
 "nbformat_minor": 4
}
